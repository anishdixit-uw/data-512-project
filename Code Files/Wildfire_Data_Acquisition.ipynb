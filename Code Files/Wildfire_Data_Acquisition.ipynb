{
  "cells": [
    {
      "cell_type": "code",
      "execution_count": null,
      "metadata": {
        "colab": {
          "base_uri": "https://localhost:8080/"
        },
        "id": "u3qeNBrhpa3K",
        "outputId": "331a01ca-9fa5-4af1-b13f-3b6009d22451"
      },
      "outputs": [
        {
          "output_type": "stream",
          "name": "stdout",
          "text": [
            "Drive already mounted at /content/drive; to attempt to forcibly remount, call drive.mount(\"/content/drive\", force_remount=True).\n"
          ]
        }
      ],
      "source": [
        "from google.colab import drive\n",
        "drive.mount('/content/drive')"
      ]
    },
    {
      "cell_type": "markdown",
      "source": [
        "Importing necessary libraries and David's reader module"
      ],
      "metadata": {
        "id": "URAe3U1BmO1H"
      }
    },
    {
      "cell_type": "code",
      "execution_count": null,
      "metadata": {
        "id": "X5t-KTVHSs3y"
      },
      "outputs": [],
      "source": [
        "import sys\n",
        "from tqdm import tqdm\n",
        "sys.path.append('/content/drive/MyDrive/AUT 2023/DATA 512/P1/wildfire')"
      ]
    },
    {
      "cell_type": "code",
      "execution_count": null,
      "metadata": {
        "id": "szXNNwqApr2L"
      },
      "outputs": [],
      "source": [
        "#\n",
        "#    IMPORTS\n",
        "#\n",
        "\n",
        "#    Import some standard python modules\n",
        "import os, json, time\n",
        "#\n",
        "#    The module pyproj is a standard module that can be installed using pip or your other favorite\n",
        "#    installation tool. This module provides tools to convert between different geodesic coordinate systems\n",
        "#    and for calculating distances between points (coordinates) in a specific geodesic system.\n",
        "#\n",
        "from pyproj import Transformer, Geod\n",
        "#\n",
        "#    The 'wildfire' module is a user module. This module is available from the course website. The module\n",
        "#    includes one object, a Reader, that can be used to read the GeoJSON files associated with the\n",
        "#    wildefire dataset. The module also contains a sample datafile that is GeoJSON compliant and that\n",
        "#    contains a small number of California wildfires extracted from the main wildfire dataset.\n",
        "#\n",
        "\n",
        "from Reader import Reader as WFReader\n"
      ]
    },
    {
      "cell_type": "code",
      "execution_count": null,
      "metadata": {
        "id": "WyOAQ7HduNmV"
      },
      "outputs": [],
      "source": [
        "SAMPLE_DATA_FILENAME = '/content/drive/MyDrive/AUT 2023/DATA 512/P1/USGS_Wildland_Fire_Combined_Dataset.json'"
      ]
    },
    {
      "cell_type": "code",
      "execution_count": null,
      "metadata": {
        "colab": {
          "base_uri": "https://localhost:8080/"
        },
        "id": "Opc_2ozjOR1g",
        "outputId": "be8c67b9-8925-4580-ba1c-fc495369821c"
      },
      "outputs": [
        {
          "output_type": "stream",
          "name": "stdout",
          "text": [
            "Attempting to open '/content/drive/MyDrive/AUT 2023/DATA 512/P1/USGS_Wildland_Fire_Combined_Dataset.json' with wildfire.Reader() object\n",
            "\n",
            "The header has the following keys:\n",
            "['displayFieldName', 'fieldAliases', 'geometryType', 'spatialReference', 'fields']\n",
            "\n",
            "Header Dictionary\n",
            "{\n",
            "    \"displayFieldName\": \"\",\n",
            "    \"fieldAliases\": {\n",
            "        \"OBJECTID\": \"OBJECTID\",\n",
            "        \"USGS_Assigned_ID\": \"USGS Assigned ID\",\n",
            "        \"Assigned_Fire_Type\": \"Assigned Fire Type\",\n",
            "        \"Fire_Year\": \"Fire Year\",\n",
            "        \"Fire_Polygon_Tier\": \"Fire Polygon Tier\",\n",
            "        \"Fire_Attribute_Tiers\": \"Fire Attribute Tiers\",\n",
            "        \"GIS_Acres\": \"GIS_Acres\",\n",
            "        \"GIS_Hectares\": \"GIS_Hectares\",\n",
            "        \"Source_Datasets\": \"Source Datasets\",\n",
            "        \"Listed_Fire_Types\": \"Listed Fire Types\",\n",
            "        \"Listed_Fire_Names\": \"Listed Fire Names\",\n",
            "        \"Listed_Fire_Codes\": \"Listed Fire Codes\",\n",
            "        \"Listed_Fire_IDs\": \"Listed Fire IDs\",\n",
            "        \"Listed_Fire_IRWIN_IDs\": \"Listed Fire IRWIN IDs\",\n",
            "        \"Listed_Fire_Dates\": \"Listed Fire Dates\",\n",
            "        \"Listed_Fire_Causes\": \"Listed Fire Causes\",\n",
            "        \"Listed_Fire_Cause_Class\": \"Listed Fire Cause Class\",\n",
            "        \"Listed_Rx_Reported_Acres\": \"Listed Rx Reported Acres\",\n",
            "        \"Listed_Map_Digitize_Methods\": \"Listed Map Digitize Methods\",\n",
            "        \"Listed_Notes\": \"Listed Notes\",\n",
            "        \"Processing_Notes\": \"Processing Notes\",\n",
            "        \"Wildfire_Notice\": \"Wildfire Notice\",\n",
            "        \"Prescribed_Burn_Notice\": \"Prescribed Burn Notice\",\n",
            "        \"Wildfire_and_Rx_Flag\": \"Wildfire and Rx Flag\",\n",
            "        \"Overlap_Within_1_or_2_Flag\": \"Overlap Within 1 or 2 Years Flag\",\n",
            "        \"Circleness_Scale\": \"Circleness Scale\",\n",
            "        \"Circle_Flag\": \"Circle Flag\",\n",
            "        \"Exclude_From_Summary_Rasters\": \"Exclude From Summary Rasters\",\n",
            "        \"Shape_Length\": \"Shape_Length\",\n",
            "        \"Shape_Area\": \"Shape_Area\"\n",
            "    },\n",
            "    \"geometryType\": \"esriGeometryPolygon\",\n",
            "    \"spatialReference\": {\n",
            "        \"wkid\": 102008,\n",
            "        \"latestWkid\": 102008\n",
            "    },\n",
            "    \"fields\": [\n",
            "        {\n",
            "            \"name\": \"OBJECTID\",\n",
            "            \"type\": \"esriFieldTypeOID\",\n",
            "            \"alias\": \"OBJECTID\"\n",
            "        },\n",
            "        {\n",
            "            \"name\": \"USGS_Assigned_ID\",\n",
            "            \"type\": \"esriFieldTypeInteger\",\n",
            "            \"alias\": \"USGS Assigned ID\"\n",
            "        },\n",
            "        {\n",
            "            \"name\": \"Assigned_Fire_Type\",\n",
            "            \"type\": \"esriFieldTypeString\",\n",
            "            \"alias\": \"Assigned Fire Type\",\n",
            "            \"length\": 100\n",
            "        },\n",
            "        {\n",
            "            \"name\": \"Fire_Year\",\n",
            "            \"type\": \"esriFieldTypeSmallInteger\",\n",
            "            \"alias\": \"Fire Year\"\n",
            "        },\n",
            "        {\n",
            "            \"name\": \"Fire_Polygon_Tier\",\n",
            "            \"type\": \"esriFieldTypeSmallInteger\",\n",
            "            \"alias\": \"Fire Polygon Tier\"\n",
            "        },\n",
            "        {\n",
            "            \"name\": \"Fire_Attribute_Tiers\",\n",
            "            \"type\": \"esriFieldTypeString\",\n",
            "            \"alias\": \"Fire Attribute Tiers\",\n",
            "            \"length\": 30000\n",
            "        },\n",
            "        {\n",
            "            \"name\": \"GIS_Acres\",\n",
            "            \"type\": \"esriFieldTypeDouble\",\n",
            "            \"alias\": \"GIS_Acres\"\n",
            "        },\n",
            "        {\n",
            "            \"name\": \"GIS_Hectares\",\n",
            "            \"type\": \"esriFieldTypeDouble\",\n",
            "            \"alias\": \"GIS_Hectares\"\n",
            "        },\n",
            "        {\n",
            "            \"name\": \"Source_Datasets\",\n",
            "            \"type\": \"esriFieldTypeString\",\n",
            "            \"alias\": \"Source Datasets\",\n",
            "            \"length\": 500000\n",
            "        },\n",
            "        {\n",
            "            \"name\": \"Listed_Fire_Types\",\n",
            "            \"type\": \"esriFieldTypeString\",\n",
            "            \"alias\": \"Listed Fire Types\",\n",
            "            \"length\": 100000\n",
            "        },\n",
            "        {\n",
            "            \"name\": \"Listed_Fire_Names\",\n",
            "            \"type\": \"esriFieldTypeString\",\n",
            "            \"alias\": \"Listed Fire Names\",\n",
            "            \"length\": 100000\n",
            "        },\n",
            "        {\n",
            "            \"name\": \"Listed_Fire_Codes\",\n",
            "            \"type\": \"esriFieldTypeString\",\n",
            "            \"alias\": \"Listed Fire Codes\",\n",
            "            \"length\": 100000\n",
            "        },\n",
            "        {\n",
            "            \"name\": \"Listed_Fire_IDs\",\n",
            "            \"type\": \"esriFieldTypeString\",\n",
            "            \"alias\": \"Listed Fire IDs\",\n",
            "            \"length\": 30000\n",
            "        },\n",
            "        {\n",
            "            \"name\": \"Listed_Fire_IRWIN_IDs\",\n",
            "            \"type\": \"esriFieldTypeString\",\n",
            "            \"alias\": \"Listed Fire IRWIN IDs\",\n",
            "            \"length\": 30000\n",
            "        },\n",
            "        {\n",
            "            \"name\": \"Listed_Fire_Dates\",\n",
            "            \"type\": \"esriFieldTypeString\",\n",
            "            \"alias\": \"Listed Fire Dates\",\n",
            "            \"length\": 500000\n",
            "        },\n",
            "        {\n",
            "            \"name\": \"Listed_Fire_Causes\",\n",
            "            \"type\": \"esriFieldTypeString\",\n",
            "            \"alias\": \"Listed Fire Causes\",\n",
            "            \"length\": 100000\n",
            "        },\n",
            "        {\n",
            "            \"name\": \"Listed_Fire_Cause_Class\",\n",
            "            \"type\": \"esriFieldTypeString\",\n",
            "            \"alias\": \"Listed Fire Cause Class\",\n",
            "            \"length\": 100000\n",
            "        },\n",
            "        {\n",
            "            \"name\": \"Listed_Rx_Reported_Acres\",\n",
            "            \"type\": \"esriFieldTypeString\",\n",
            "            \"alias\": \"Listed Rx Reported Acres\",\n",
            "            \"length\": 10000\n",
            "        },\n",
            "        {\n",
            "            \"name\": \"Listed_Map_Digitize_Methods\",\n",
            "            \"type\": \"esriFieldTypeString\",\n",
            "            \"alias\": \"Listed Map Digitize Methods\",\n",
            "            \"length\": 100000\n",
            "        },\n",
            "        {\n",
            "            \"name\": \"Listed_Notes\",\n",
            "            \"type\": \"esriFieldTypeString\",\n",
            "            \"alias\": \"Listed Notes\",\n",
            "            \"length\": 30000\n",
            "        },\n",
            "        {\n",
            "            \"name\": \"Processing_Notes\",\n",
            "            \"type\": \"esriFieldTypeString\",\n",
            "            \"alias\": \"Processing Notes\",\n",
            "            \"length\": 30000\n",
            "        },\n",
            "        {\n",
            "            \"name\": \"Wildfire_Notice\",\n",
            "            \"type\": \"esriFieldTypeString\",\n",
            "            \"alias\": \"Wildfire Notice\",\n",
            "            \"length\": 700\n",
            "        },\n",
            "        {\n",
            "            \"name\": \"Prescribed_Burn_Notice\",\n",
            "            \"type\": \"esriFieldTypeString\",\n",
            "            \"alias\": \"Prescribed Burn Notice\",\n",
            "            \"length\": 700\n",
            "        },\n",
            "        {\n",
            "            \"name\": \"Wildfire_and_Rx_Flag\",\n",
            "            \"type\": \"esriFieldTypeString\",\n",
            "            \"alias\": \"Wildfire and Rx Flag\",\n",
            "            \"length\": 1000\n",
            "        },\n",
            "        {\n",
            "            \"name\": \"Overlap_Within_1_or_2_Flag\",\n",
            "            \"type\": \"esriFieldTypeString\",\n",
            "            \"alias\": \"Overlap Within 1 or 2 Years Flag\",\n",
            "            \"length\": 8000\n",
            "        },\n",
            "        {\n",
            "            \"name\": \"Circleness_Scale\",\n",
            "            \"type\": \"esriFieldTypeDouble\",\n",
            "            \"alias\": \"Circleness Scale\"\n",
            "        },\n",
            "        {\n",
            "            \"name\": \"Circle_Flag\",\n",
            "            \"type\": \"esriFieldTypeSmallInteger\",\n",
            "            \"alias\": \"Circle Flag\"\n",
            "        },\n",
            "        {\n",
            "            \"name\": \"Exclude_From_Summary_Rasters\",\n",
            "            \"type\": \"esriFieldTypeString\",\n",
            "            \"alias\": \"Exclude From Summary Rasters\",\n",
            "            \"length\": 3\n",
            "        },\n",
            "        {\n",
            "            \"name\": \"Shape_Length\",\n",
            "            \"type\": \"esriFieldTypeDouble\",\n",
            "            \"alias\": \"Shape_Length\"\n",
            "        },\n",
            "        {\n",
            "            \"name\": \"Shape_Area\",\n",
            "            \"type\": \"esriFieldTypeDouble\",\n",
            "            \"alias\": \"Shape_Area\"\n",
            "        }\n",
            "    ]\n",
            "}\n"
          ]
        }
      ],
      "source": [
        "#\n",
        "#    This bit of code opens a new wildfire reader, gets the header information and prints it to the screen\n",
        "#\n",
        "print(f\"Attempting to open '{SAMPLE_DATA_FILENAME}' with wildfire.Reader() object\")\n",
        "wfreader = WFReader(SAMPLE_DATA_FILENAME)\n",
        "print()\n",
        "#\n",
        "#    Now print the header - it contains some useful information\n",
        "#\n",
        "header_dict = wfreader.header()\n",
        "header_keys = list(header_dict.keys())\n",
        "print(\"The header has the following keys:\")\n",
        "print(header_keys)\n",
        "print()\n",
        "print(\"Header Dictionary\")\n",
        "print(json.dumps(header_dict,indent=4))"
      ]
    },
    {
      "cell_type": "markdown",
      "source": [
        "Load all wildfire occurrences i.e. features"
      ],
      "metadata": {
        "id": "vLp7yEZ3m_lP"
      }
    },
    {
      "cell_type": "code",
      "execution_count": null,
      "metadata": {
        "colab": {
          "base_uri": "https://localhost:8080/"
        },
        "id": "j3we9i3xTAkv",
        "outputId": "5026d11e-07c3-4442-f9ad-4ff129c41003"
      },
      "outputs": [
        {
          "output_type": "stream",
          "name": "stdout",
          "text": [
            "Loaded 10000 features\n",
            "Loaded 20000 features\n",
            "Loaded 30000 features\n",
            "Loaded 40000 features\n",
            "Loaded 50000 features\n",
            "Loaded 60000 features\n",
            "Loaded 70000 features\n",
            "Loaded 80000 features\n",
            "Loaded 90000 features\n",
            "Loaded 100000 features\n",
            "Loaded 110000 features\n",
            "Loaded 120000 features\n",
            "Loaded 130000 features\n",
            "Loaded a total of 135061 features\n",
            "Variable 'feature_list' contains 135061 features\n"
          ]
        }
      ],
      "source": [
        "#\n",
        "#    This sample code will load the whole sample file, or a small amount of the complete dataset.\n",
        "#\n",
        "#MAX_FEATURE_LOAD = 100\n",
        "feature_list = list()\n",
        "feature_count = 0\n",
        "# A rewind() on the reader object makes sure we're at the start of the feature list\n",
        "# This way, we can execute this cell multiple times and get the same result\n",
        "wfreader.rewind()\n",
        "# Now, read through each of the features, saving them as dictionaries into a list\n",
        "feature = wfreader.next()\n",
        "while feature:\n",
        "    feature_list.append(feature)\n",
        "    feature_count += 1\n",
        "    # if we're loading a lot of features, print progress\n",
        "    if (feature_count % 10000) == 0:\n",
        "        print(f\"Loaded {feature_count} features\")\n",
        "    # loaded the max we're allowed then break\n",
        "    # if feature_count >= MAX_FEATURE_LOAD:\n",
        "    #     break\n",
        "    feature = wfreader.next()\n",
        "#\n",
        "#    Print the number of items (features) we think we loaded\n",
        "print(f\"Loaded a total of {feature_count} features\")\n",
        "#\n",
        "#    Just a validation check - did all the items we loaded get into the list?\n",
        "print(f\"Variable 'feature_list' contains {len(feature_list)} features\")\n",
        "\n",
        "\n"
      ]
    },
    {
      "cell_type": "code",
      "execution_count": null,
      "metadata": {
        "colab": {
          "base_uri": "https://localhost:8080/"
        },
        "id": "5h75T_jyTf1Q",
        "outputId": "b38ef8e1-c6f2-47a8-fda0-fe4b8cdc27a0"
      },
      "outputs": [
        {
          "output_type": "stream",
          "name": "stdout",
          "text": [
            "The largest ring of wf_feature['features'][0]['rings'] consists of 768 points.\n"
          ]
        }
      ],
      "source": [
        "#\n",
        "#    Every feature has a 'geometry' which specifies geo coordinates that make up each geographic thing\n",
        "#    In the case of the wildfire data, most wildfires are bounded shapes, circles, squares, etc. This is\n",
        "#    represented by shapes called 'rings' in GeoJSON.\n",
        "#\n",
        "# Get the geometry for the feature we pulled from the feature_list\n",
        "wf_geometry = wf_feature['geometry']\n",
        "# The largest shape (ring) is supposed to be item zero in the list of 'rings'\n",
        "wf_bigest_ring = wf_geometry['rings'][0]\n",
        "\n",
        "print(f\"The largest ring of wf_feature['features'][{SLOT}]['rings'] consists of {len(wf_bigest_ring)} points.\")"
      ]
    },
    {
      "cell_type": "code",
      "execution_count": null,
      "metadata": {
        "id": "OT5muEbOTwog"
      },
      "outputs": [],
      "source": [
        "#\n",
        "#    Transform feature geometry data\n",
        "#\n",
        "#    The function takes one parameter, a list of ESRI:102008 coordinates that will be transformed to EPSG:4326\n",
        "#    The function returns a list of coordinates in EPSG:4326\n",
        "def convert_ring_to_epsg4326(ring_data=None):\n",
        "    converted_ring = list()\n",
        "    #\n",
        "    # We use a pyproj transformer that converts from ESRI:102008 to EPSG:4326 to transform the list of coordinates\n",
        "    to_epsg4326 = Transformer.from_crs(\"ESRI:102008\",\"EPSG:4326\")\n",
        "    # We'll run through the list transforming each ESRI:102008 x,y coordinate into a decimal degree lat,lon\n",
        "    for coord in ring_data:\n",
        "        lat,lon = to_epsg4326.transform(coord[0],coord[1])\n",
        "        new_coord = lat,lon\n",
        "        converted_ring.append(new_coord)\n",
        "    return converted_ring"
      ]
    },
    {
      "cell_type": "code",
      "execution_count": null,
      "metadata": {
        "colab": {
          "base_uri": "https://localhost:8080/"
        },
        "id": "GH8FmwRNUpEr",
        "outputId": "e1d95a97-e27a-4686-84bb-2b1da20e8593"
      },
      "outputs": [
        {
          "output_type": "stream",
          "name": "stdout",
          "text": [
            "Ring consists of 768 points.\n"
          ]
        }
      ],
      "source": [
        "#\n",
        "#   Convert one ring from the default to EPSG\n",
        "#\n",
        "#   There are two options here - depending upon whether you loaded data useing GeoJSON or the wildfire.Reader\n",
        "#\n",
        "#ring_in_epsg4326 = convert_ring_to_epsg4326(gj_bigest_ring)\n",
        "#\n",
        "ring_in_epsg4326 = convert_ring_to_epsg4326(wf_bigest_ring)\n",
        "#\n",
        "print(f\"Ring consists of {len(ring_in_epsg4326)} points.\")\n",
        "#\n",
        "#    If you want to print them out you can see what they look like converted.\n",
        "#print(ring_in_epsg4326)\n",
        "#for point in ring_in_epsg4326:\n",
        "#    print(f\"{point[0]},{point[1]}\")"
      ]
    },
    {
      "cell_type": "markdown",
      "source": [
        "Add in location details corresponding to the city allotted to me, 'North Platte, Nebraska'"
      ],
      "metadata": {
        "id": "usLKwcn-nGeA"
      }
    },
    {
      "cell_type": "code",
      "execution_count": null,
      "metadata": {
        "id": "W-wfYNVqUr1a"
      },
      "outputs": [],
      "source": [
        "CITY_LOCATIONS = {\n",
        "    'np' :     {'city'   : 'North Platte',\n",
        "                       'latlon' : [41.1403, -100.7601] }\n",
        "}\n"
      ]
    },
    {
      "cell_type": "markdown",
      "source": [
        "I am considering the average distance of a fire feature polygon to the specified place. I think it will be a better estimator than shortest distance."
      ],
      "metadata": {
        "id": "BYjX7a1qnf26"
      }
    },
    {
      "cell_type": "code",
      "execution_count": null,
      "metadata": {
        "id": "4SxsMTxWVjYu"
      },
      "outputs": [],
      "source": [
        "def average_distance_from_place_to_fire_perimeter(place=None,ring_data=None):\n",
        "    # convert the ring data to the right coordinate system\n",
        "    ring = convert_ring_to_epsg4326(ring_data)\n",
        "    # create a epsg4326 compliant object - which is what the WGS84 ellipsoid is\n",
        "    geodcalc = Geod(ellps='WGS84')\n",
        "    # create a list to store our results\n",
        "    distances_in_meters = list()\n",
        "    # run through each point in the converted ring data\n",
        "    for point in ring:\n",
        "        # calculate the distance\n",
        "        d = geodcalc.inv(place[1],place[0],point[1],point[0])\n",
        "        distances_in_meters.append(d[2])\n",
        "    #print(\"Got the following list:\",distances_in_meters)\n",
        "    # convert meters to miles\n",
        "    distances_in_miles = [meters*0.00062137 for meters in distances_in_meters]\n",
        "    # the esri polygon shape (the ring) requires that the first and last coordinates be identical to 'close the region\n",
        "    # we remove one of them so that we don't bias our average by having two of the same point\n",
        "    distances_in_miles_no_dup = distances_in_miles[1:]\n",
        "    # now, average miles\n",
        "    average = sum(distances_in_miles_no_dup)/len(distances_in_miles_no_dup)\n",
        "    return average"
      ]
    },
    {
      "cell_type": "markdown",
      "source": [
        "#FILTERING PROCESS:\n",
        "\n",
        "Including only those fire locations which are within 1250 miles of North Platte. Also including fires which happened after 1963.\n",
        "\n",
        "#SMOKE ESTIMATE CALCULATION:\n",
        "\n",
        "In the given dataset, the parameters which give quantitative estimates of the fire are:\n",
        "\n",
        "\n",
        "\n",
        "1.   The Area Burnt by the Fire (direct proportion)\n",
        "2.   The Distance of the Fire from North Platte (inverse proportion)\n",
        "3.   The Intensity of the Fire (direct proportion)\n",
        "\n",
        "The fire intensity can be computed based on the type of the fire (Wildfire, Prescribed Fire etc.) The metadata of the geographic data reveals that wildfire has highest intensity since they are proper fires. Prescribed fires might be smaller fires, hence I assigned a multiplying factor the same and calculated as follows:\n",
        "\n",
        "`Fire-Estimate = (Area*Intensity)/(Distance)`\n",
        "\n"
      ],
      "metadata": {
        "id": "FbQUHCL3nwnA"
      }
    },
    {
      "cell_type": "code",
      "source": [
        "fire_intensity = dict()\n",
        "fire_intensity['Wildfire'] = 2\n",
        "fire_intensity['Likely Wildfire'] = 1.75\n",
        "fire_intensity['Unknown - Likely Wildfire'] = 1.5\n",
        "fire_intensity['Prescribed Fire'] = 1.25\n",
        "fire_intensity['Unknown - Likely Prescribed Fire'] = 1"
      ],
      "metadata": {
        "id": "WOS8dGQl7ERt"
      },
      "execution_count": null,
      "outputs": []
    },
    {
      "cell_type": "code",
      "execution_count": null,
      "metadata": {
        "colab": {
          "base_uri": "https://localhost:8080/"
        },
        "id": "hVi3u-IbVpRg",
        "outputId": "a0ca5730-00b6-4078-fa7b-ffcad5d9e244"
      },
      "outputs": [
        {
          "output_type": "stream",
          "name": "stderr",
          "text": [
            " 81%|████████  | 109605/135061 [3:50:35<57:23,  7.39it/s]"
          ]
        },
        {
          "output_type": "stream",
          "name": "stdout",
          "text": [
            "Exception occurred, ring param was missing\n"
          ]
        },
        {
          "output_type": "stream",
          "name": "stderr",
          "text": [
            " 82%|████████▏ | 110224/135061 [3:52:10<1:00:27,  6.85it/s]"
          ]
        },
        {
          "output_type": "stream",
          "name": "stdout",
          "text": [
            "Exception occurred, ring param was missing\n"
          ]
        },
        {
          "output_type": "stream",
          "name": "stderr",
          "text": [
            " 82%|████████▏ | 110639/135061 [3:53:14<1:03:26,  6.42it/s]"
          ]
        },
        {
          "output_type": "stream",
          "name": "stdout",
          "text": [
            "Exception occurred, ring param was missing\n"
          ]
        },
        {
          "output_type": "stream",
          "name": "stderr",
          "text": [
            " 83%|████████▎ | 111431/135061 [3:55:15<57:50,  6.81it/s]"
          ]
        },
        {
          "output_type": "stream",
          "name": "stdout",
          "text": [
            "Exception occurred, ring param was missing\n"
          ]
        },
        {
          "output_type": "stream",
          "name": "stderr",
          "text": [
            " 83%|████████▎ | 111776/135061 [3:56:10<56:35,  6.86it/s]"
          ]
        },
        {
          "output_type": "stream",
          "name": "stdout",
          "text": [
            "Exception occurred, ring param was missing\n"
          ]
        },
        {
          "output_type": "stream",
          "name": "stderr",
          "text": [
            " 83%|████████▎ | 111897/135061 [3:56:28<54:41,  7.06it/s]"
          ]
        },
        {
          "output_type": "stream",
          "name": "stdout",
          "text": [
            "Exception occurred, ring param was missing\n"
          ]
        },
        {
          "output_type": "stream",
          "name": "stderr",
          "text": [
            " 83%|████████▎ | 112410/135061 [3:57:47<54:16,  6.96it/s]"
          ]
        },
        {
          "output_type": "stream",
          "name": "stdout",
          "text": [
            "Exception occurred, ring param was missing\n"
          ]
        },
        {
          "output_type": "stream",
          "name": "stderr",
          "text": [
            " 83%|████████▎ | 112415/135061 [3:57:48<53:35,  7.04it/s]"
          ]
        },
        {
          "output_type": "stream",
          "name": "stdout",
          "text": [
            "Exception occurred, ring param was missing\n"
          ]
        },
        {
          "output_type": "stream",
          "name": "stderr",
          "text": [
            " 84%|████████▍ | 113410/135061 [4:00:17<1:08:02,  5.30it/s]"
          ]
        },
        {
          "output_type": "stream",
          "name": "stdout",
          "text": [
            "Exception occurred, ring param was missing\n"
          ]
        },
        {
          "output_type": "stream",
          "name": "stderr",
          "text": [
            " 84%|████████▍ | 113665/135061 [4:00:56<50:03,  7.12it/s]"
          ]
        },
        {
          "output_type": "stream",
          "name": "stdout",
          "text": [
            "Exception occurred, ring param was missing\n"
          ]
        },
        {
          "output_type": "stream",
          "name": "stderr",
          "text": [
            " 84%|████████▍ | 113738/135061 [4:01:07<51:05,  6.96it/s]"
          ]
        },
        {
          "output_type": "stream",
          "name": "stdout",
          "text": [
            "Exception occurred, ring param was missing\n"
          ]
        },
        {
          "output_type": "stream",
          "name": "stderr",
          "text": [
            " 84%|████████▍ | 113766/135061 [4:01:12<1:07:25,  5.26it/s]"
          ]
        },
        {
          "output_type": "stream",
          "name": "stdout",
          "text": [
            "Exception occurred, ring param was missing\n"
          ]
        },
        {
          "output_type": "stream",
          "name": "stderr",
          "text": [
            " 84%|████████▍ | 113805/135061 [4:01:18<50:17,  7.04it/s]"
          ]
        },
        {
          "output_type": "stream",
          "name": "stdout",
          "text": [
            "Exception occurred, ring param was missing\n"
          ]
        },
        {
          "output_type": "stream",
          "name": "stderr",
          "text": [
            " 85%|████████▍ | 114309/135061 [4:02:36<49:01,  7.05it/s]"
          ]
        },
        {
          "output_type": "stream",
          "name": "stdout",
          "text": [
            "Exception occurred, ring param was missing\n"
          ]
        },
        {
          "output_type": "stream",
          "name": "stderr",
          "text": [
            " 85%|████████▍ | 114322/135061 [4:02:38<48:06,  7.18it/s]"
          ]
        },
        {
          "output_type": "stream",
          "name": "stdout",
          "text": [
            "Exception occurred, ring param was missing\n"
          ]
        },
        {
          "output_type": "stream",
          "name": "stderr",
          "text": [
            " 86%|████████▌ | 115629/135061 [4:05:54<41:34,  7.79it/s]"
          ]
        },
        {
          "output_type": "stream",
          "name": "stdout",
          "text": [
            "Exception occurred, ring param was missing\n"
          ]
        },
        {
          "output_type": "stream",
          "name": "stderr",
          "text": [
            " 86%|████████▌ | 115974/135061 [4:06:47<48:53,  6.51it/s]"
          ]
        },
        {
          "output_type": "stream",
          "name": "stdout",
          "text": [
            "Exception occurred, ring param was missing\n"
          ]
        },
        {
          "output_type": "stream",
          "name": "stderr",
          "text": [
            " 86%|████████▌ | 116235/135061 [4:07:26<52:15,  6.00it/s]"
          ]
        },
        {
          "output_type": "stream",
          "name": "stdout",
          "text": [
            "Exception occurred, ring param was missing\n"
          ]
        },
        {
          "output_type": "stream",
          "name": "stderr",
          "text": [
            " 87%|████████▋ | 117086/135061 [4:09:33<41:45,  7.17it/s]"
          ]
        },
        {
          "output_type": "stream",
          "name": "stdout",
          "text": [
            "Exception occurred, ring param was missing\n"
          ]
        },
        {
          "output_type": "stream",
          "name": "stderr",
          "text": [
            " 89%|████████▊ | 119582/135061 [4:15:46<36:48,  7.01it/s]"
          ]
        },
        {
          "output_type": "stream",
          "name": "stdout",
          "text": [
            "Exception occurred, ring param was missing\n"
          ]
        },
        {
          "output_type": "stream",
          "name": "stderr",
          "text": [
            " 89%|████████▊ | 119617/135061 [4:15:51<48:42,  5.28it/s]"
          ]
        },
        {
          "output_type": "stream",
          "name": "stdout",
          "text": [
            "Exception occurred, ring param was missing\n"
          ]
        },
        {
          "output_type": "stream",
          "name": "stderr",
          "text": [
            " 89%|████████▊ | 119751/135061 [4:16:11<36:59,  6.90it/s]"
          ]
        },
        {
          "output_type": "stream",
          "name": "stdout",
          "text": [
            "Exception occurred, ring param was missing\n"
          ]
        },
        {
          "output_type": "stream",
          "name": "stderr",
          "text": [
            " 89%|████████▉ | 119982/135061 [4:16:46<43:44,  5.74it/s]"
          ]
        },
        {
          "output_type": "stream",
          "name": "stdout",
          "text": [
            "Exception occurred, ring param was missing\n"
          ]
        },
        {
          "output_type": "stream",
          "name": "stderr",
          "text": [
            " 89%|████████▉ | 120212/135061 [4:17:21<35:54,  6.89it/s]"
          ]
        },
        {
          "output_type": "stream",
          "name": "stdout",
          "text": [
            "Exception occurred, ring param was missing\n"
          ]
        },
        {
          "output_type": "stream",
          "name": "stderr",
          "text": [
            " 89%|████████▉ | 120431/135061 [4:17:55<34:49,  7.00it/s]"
          ]
        },
        {
          "output_type": "stream",
          "name": "stdout",
          "text": [
            "Exception occurred, ring param was missing\n"
          ]
        },
        {
          "output_type": "stream",
          "name": "stderr",
          "text": [
            " 89%|████████▉ | 120677/135061 [4:18:30<47:30,  5.05it/s]"
          ]
        },
        {
          "output_type": "stream",
          "name": "stdout",
          "text": [
            "Exception occurred, ring param was missing\n"
          ]
        },
        {
          "output_type": "stream",
          "name": "stderr",
          "text": [
            " 89%|████████▉ | 120743/135061 [4:18:40<33:17,  7.17it/s]"
          ]
        },
        {
          "output_type": "stream",
          "name": "stdout",
          "text": [
            "Exception occurred, ring param was missing\n"
          ]
        },
        {
          "output_type": "stream",
          "name": "stderr",
          "text": [
            " 90%|████████▉ | 121010/135061 [4:19:19<33:10,  7.06it/s]"
          ]
        },
        {
          "output_type": "stream",
          "name": "stdout",
          "text": [
            "Exception occurred, ring param was missing\n"
          ]
        },
        {
          "output_type": "stream",
          "name": "stderr",
          "text": [
            " 91%|█████████ | 122264/135061 [4:22:27<29:44,  7.17it/s]"
          ]
        },
        {
          "output_type": "stream",
          "name": "stdout",
          "text": [
            "Exception occurred, ring param was missing\n"
          ]
        },
        {
          "output_type": "stream",
          "name": "stderr",
          "text": [
            " 91%|█████████ | 122532/135061 [4:23:07<28:38,  7.29it/s]"
          ]
        },
        {
          "output_type": "stream",
          "name": "stdout",
          "text": [
            "Exception occurred, ring param was missing\n"
          ]
        },
        {
          "output_type": "stream",
          "name": "stderr",
          "text": [
            " 92%|█████████▏| 123761/135061 [4:26:12<24:31,  7.68it/s]"
          ]
        },
        {
          "output_type": "stream",
          "name": "stdout",
          "text": [
            "Exception occurred, ring param was missing\n"
          ]
        },
        {
          "output_type": "stream",
          "name": "stderr",
          "text": [
            " 92%|█████████▏| 124535/135061 [4:28:10<24:37,  7.13it/s]"
          ]
        },
        {
          "output_type": "stream",
          "name": "stdout",
          "text": [
            "Exception occurred, ring param was missing\n"
          ]
        },
        {
          "output_type": "stream",
          "name": "stderr",
          "text": [
            " 93%|█████████▎| 125046/135061 [4:29:26<31:11,  5.35it/s]"
          ]
        },
        {
          "output_type": "stream",
          "name": "stdout",
          "text": [
            "Exception occurred, ring param was missing\n"
          ]
        },
        {
          "output_type": "stream",
          "name": "stderr",
          "text": [
            " 93%|█████████▎| 125745/135061 [4:31:09<22:16,  6.97it/s]"
          ]
        },
        {
          "output_type": "stream",
          "name": "stdout",
          "text": [
            "Exception occurred, ring param was missing\n"
          ]
        },
        {
          "output_type": "stream",
          "name": "stderr",
          "text": [
            " 94%|█████████▍| 127492/135061 [4:35:31<18:06,  6.97it/s]"
          ]
        },
        {
          "output_type": "stream",
          "name": "stdout",
          "text": [
            "Exception occurred, ring param was missing\n"
          ]
        },
        {
          "output_type": "stream",
          "name": "stderr",
          "text": [
            "100%|██████████| 135061/135061 [4:54:45<00:00,  7.64it/s]\n"
          ]
        }
      ],
      "source": [
        "place = CITY_LOCATIONS['np']\n",
        "rel_fires = []\n",
        "for wf_feature in tqdm(feature_list):\n",
        "    #print(f\"{place['city']}\")\n",
        "    try:\n",
        "      wf_year = wf_feature['attributes']['Fire_Year']\n",
        "      wf_name = wf_feature['attributes']['Listed_Fire_Names'].split(',')[0]\n",
        "      wf_size = wf_feature['attributes']['GIS_Acres']\n",
        "      wf_type = wf_feature['attributes']['Assigned_Fire_Type']\n",
        "      ring_data = wf_feature['geometry']['rings'][0]\n",
        "    except:\n",
        "      print(\"Exception occurred, ring param was missing\")\n",
        "        #     Compute using the average distance to all points on the perimeter\n",
        "    if wf_year >= 1963:\n",
        "      distance = average_distance_from_place_to_fire_perimeter(place['latlon'],ring_data)\n",
        "      if distance < 1250:\n",
        "        ring = convert_ring_to_epsg4326(ring_data)\n",
        "        wf_feature['attributes']['distance'] = distance\n",
        "        smoke_estimate = (wf_size*fire_intensity[wf_type])/distance\n",
        "        wf_feature['attributes']['smoke_estimate'] = smoke_estimate\n",
        "        rel_fires.append(wf_feature['attributes'])"
      ]
    },
    {
      "cell_type": "code",
      "source": [
        "len(rel_fires)"
      ],
      "metadata": {
        "id": "kPNh9Jbso58_",
        "colab": {
          "base_uri": "https://localhost:8080/"
        },
        "outputId": "d7cb4fb1-e36c-4cbd-9fcd-5792c2652dad"
      },
      "execution_count": null,
      "outputs": [
        {
          "output_type": "execute_result",
          "data": {
            "text/plain": [
              "106436"
            ]
          },
          "metadata": {},
          "execution_count": 27
        }
      ]
    },
    {
      "cell_type": "markdown",
      "source": [
        "I have around 100000 fires which fall within the specified constraints for North Platte. I would attribute this high number to the fact that Nebraska is in the middle of the country and a radius of 1250 miles would encompass states in all directions.\n",
        "\n",
        "I save this data in a JSON file."
      ],
      "metadata": {
        "id": "teaay74PqMb_"
      }
    },
    {
      "cell_type": "code",
      "source": [
        "int_json = open('/content/drive/MyDrive/AUT 2023/DATA 512/P1/smoke_estimate_NP.json', \"w\")\n",
        "json.dump(rel_fires, int_json, indent = 4)\n",
        "int_json.close()"
      ],
      "metadata": {
        "id": "DwHnGYYcBeky"
      },
      "execution_count": null,
      "outputs": []
    },
    {
      "cell_type": "code",
      "source": [
        "import pandas as pd\n",
        "df = pd.read_json('/content/drive/MyDrive/AUT 2023/DATA 512/P1/smoke_estimate_NP.json')\n",
        "df.head()"
      ],
      "metadata": {
        "colab": {
          "base_uri": "https://localhost:8080/",
          "height": 342
        },
        "id": "vPDal0gVBhlr",
        "outputId": "d042b7e8-de75-4463-a621-41f039f2f1d4"
      },
      "execution_count": null,
      "outputs": [
        {
          "output_type": "execute_result",
          "data": {
            "text/plain": [
              "   OBJECTID  USGS_Assigned_ID Assigned_Fire_Type  Fire_Year  \\\n",
              "0     14299             14299           Wildfire       1963   \n",
              "1     14300             14300           Wildfire       1963   \n",
              "2     14301             14301           Wildfire       1963   \n",
              "3     14302             14302           Wildfire       1963   \n",
              "4     14303             14303           Wildfire       1963   \n",
              "\n",
              "   Fire_Polygon_Tier  Fire_Attribute_Tiers     GIS_Acres  GIS_Hectares  \\\n",
              "0                  1          1 (1), 3 (3)  40992.458271  16589.059302   \n",
              "1                  1          1 (1), 3 (3)  25757.090203  10423.524591   \n",
              "2                  1  1 (5), 3 (15), 5 (1)  45527.210986  18424.208617   \n",
              "3                  1   1 (1), 3 (3), 5 (1)  10395.010334   4206.711433   \n",
              "4                  1          1 (1), 3 (3)   9983.605738   4040.221900   \n",
              "\n",
              "                                     Source_Datasets  \\\n",
              "0  Comb_National_NIFC_Interagency_Fire_Perimeter_...   \n",
              "1  Comb_National_NIFC_Interagency_Fire_Perimeter_...   \n",
              "2  Comb_National_NIFC_Interagency_Fire_Perimeter_...   \n",
              "3  Comb_National_NIFC_Interagency_Fire_Perimeter_...   \n",
              "4  Comb_National_NIFC_Interagency_Fire_Perimeter_...   \n",
              "\n",
              "                    Listed_Fire_Types  ...  \\\n",
              "0   Wildfire (1), Likely Wildfire (3)  ...   \n",
              "1   Wildfire (2), Likely Wildfire (2)  ...   \n",
              "2  Wildfire (6), Likely Wildfire (15)  ...   \n",
              "3   Wildfire (2), Likely Wildfire (3)  ...   \n",
              "4   Wildfire (1), Likely Wildfire (3)  ...   \n",
              "\n",
              "                              Prescribed_Burn_Notice Wildfire_and_Rx_Flag  \\\n",
              "0  Prescribed fire data in this dataset represent...                 None   \n",
              "1  Prescribed fire data in this dataset represent...                 None   \n",
              "2  Prescribed fire data in this dataset represent...                 None   \n",
              "3  Prescribed fire data in this dataset represent...                 None   \n",
              "4  Prescribed fire data in this dataset represent...                 None   \n",
              "\n",
              "  Overlap_Within_1_or_2_Flag Circleness_Scale Circle_Flag  \\\n",
              "0                       None         0.385355         NaN   \n",
              "1                       None         0.364815         NaN   \n",
              "2                       None         0.320927         NaN   \n",
              "3                       None         0.428936         NaN   \n",
              "4                       None         0.703178         NaN   \n",
              "\n",
              "  Exclude_From_Summary_Rasters  Shape_Length    Shape_Area    distance  \\\n",
              "0                           No  73550.428118  1.658906e+08  834.453121   \n",
              "1                           No  59920.576713  1.042352e+08  860.579136   \n",
              "2                           No  84936.827810  1.842421e+08  826.551127   \n",
              "3                           No  35105.903602  4.206711e+07  782.078523   \n",
              "4                           No  26870.456126  4.040222e+07  820.831455   \n",
              "\n",
              "  smoke_estimate  \n",
              "0      98.249877  \n",
              "1      59.859899  \n",
              "2     110.161875  \n",
              "3      26.583035  \n",
              "4      24.325592  \n",
              "\n",
              "[5 rows x 32 columns]"
            ],
            "text/html": [
              "\n",
              "  <div id=\"df-127e74e4-061f-4ec1-9f63-9cf77b0b6dc8\" class=\"colab-df-container\">\n",
              "    <div>\n",
              "<style scoped>\n",
              "    .dataframe tbody tr th:only-of-type {\n",
              "        vertical-align: middle;\n",
              "    }\n",
              "\n",
              "    .dataframe tbody tr th {\n",
              "        vertical-align: top;\n",
              "    }\n",
              "\n",
              "    .dataframe thead th {\n",
              "        text-align: right;\n",
              "    }\n",
              "</style>\n",
              "<table border=\"1\" class=\"dataframe\">\n",
              "  <thead>\n",
              "    <tr style=\"text-align: right;\">\n",
              "      <th></th>\n",
              "      <th>OBJECTID</th>\n",
              "      <th>USGS_Assigned_ID</th>\n",
              "      <th>Assigned_Fire_Type</th>\n",
              "      <th>Fire_Year</th>\n",
              "      <th>Fire_Polygon_Tier</th>\n",
              "      <th>Fire_Attribute_Tiers</th>\n",
              "      <th>GIS_Acres</th>\n",
              "      <th>GIS_Hectares</th>\n",
              "      <th>Source_Datasets</th>\n",
              "      <th>Listed_Fire_Types</th>\n",
              "      <th>...</th>\n",
              "      <th>Prescribed_Burn_Notice</th>\n",
              "      <th>Wildfire_and_Rx_Flag</th>\n",
              "      <th>Overlap_Within_1_or_2_Flag</th>\n",
              "      <th>Circleness_Scale</th>\n",
              "      <th>Circle_Flag</th>\n",
              "      <th>Exclude_From_Summary_Rasters</th>\n",
              "      <th>Shape_Length</th>\n",
              "      <th>Shape_Area</th>\n",
              "      <th>distance</th>\n",
              "      <th>smoke_estimate</th>\n",
              "    </tr>\n",
              "  </thead>\n",
              "  <tbody>\n",
              "    <tr>\n",
              "      <th>0</th>\n",
              "      <td>14299</td>\n",
              "      <td>14299</td>\n",
              "      <td>Wildfire</td>\n",
              "      <td>1963</td>\n",
              "      <td>1</td>\n",
              "      <td>1 (1), 3 (3)</td>\n",
              "      <td>40992.458271</td>\n",
              "      <td>16589.059302</td>\n",
              "      <td>Comb_National_NIFC_Interagency_Fire_Perimeter_...</td>\n",
              "      <td>Wildfire (1), Likely Wildfire (3)</td>\n",
              "      <td>...</td>\n",
              "      <td>Prescribed fire data in this dataset represent...</td>\n",
              "      <td>None</td>\n",
              "      <td>None</td>\n",
              "      <td>0.385355</td>\n",
              "      <td>NaN</td>\n",
              "      <td>No</td>\n",
              "      <td>73550.428118</td>\n",
              "      <td>1.658906e+08</td>\n",
              "      <td>834.453121</td>\n",
              "      <td>98.249877</td>\n",
              "    </tr>\n",
              "    <tr>\n",
              "      <th>1</th>\n",
              "      <td>14300</td>\n",
              "      <td>14300</td>\n",
              "      <td>Wildfire</td>\n",
              "      <td>1963</td>\n",
              "      <td>1</td>\n",
              "      <td>1 (1), 3 (3)</td>\n",
              "      <td>25757.090203</td>\n",
              "      <td>10423.524591</td>\n",
              "      <td>Comb_National_NIFC_Interagency_Fire_Perimeter_...</td>\n",
              "      <td>Wildfire (2), Likely Wildfire (2)</td>\n",
              "      <td>...</td>\n",
              "      <td>Prescribed fire data in this dataset represent...</td>\n",
              "      <td>None</td>\n",
              "      <td>None</td>\n",
              "      <td>0.364815</td>\n",
              "      <td>NaN</td>\n",
              "      <td>No</td>\n",
              "      <td>59920.576713</td>\n",
              "      <td>1.042352e+08</td>\n",
              "      <td>860.579136</td>\n",
              "      <td>59.859899</td>\n",
              "    </tr>\n",
              "    <tr>\n",
              "      <th>2</th>\n",
              "      <td>14301</td>\n",
              "      <td>14301</td>\n",
              "      <td>Wildfire</td>\n",
              "      <td>1963</td>\n",
              "      <td>1</td>\n",
              "      <td>1 (5), 3 (15), 5 (1)</td>\n",
              "      <td>45527.210986</td>\n",
              "      <td>18424.208617</td>\n",
              "      <td>Comb_National_NIFC_Interagency_Fire_Perimeter_...</td>\n",
              "      <td>Wildfire (6), Likely Wildfire (15)</td>\n",
              "      <td>...</td>\n",
              "      <td>Prescribed fire data in this dataset represent...</td>\n",
              "      <td>None</td>\n",
              "      <td>None</td>\n",
              "      <td>0.320927</td>\n",
              "      <td>NaN</td>\n",
              "      <td>No</td>\n",
              "      <td>84936.827810</td>\n",
              "      <td>1.842421e+08</td>\n",
              "      <td>826.551127</td>\n",
              "      <td>110.161875</td>\n",
              "    </tr>\n",
              "    <tr>\n",
              "      <th>3</th>\n",
              "      <td>14302</td>\n",
              "      <td>14302</td>\n",
              "      <td>Wildfire</td>\n",
              "      <td>1963</td>\n",
              "      <td>1</td>\n",
              "      <td>1 (1), 3 (3), 5 (1)</td>\n",
              "      <td>10395.010334</td>\n",
              "      <td>4206.711433</td>\n",
              "      <td>Comb_National_NIFC_Interagency_Fire_Perimeter_...</td>\n",
              "      <td>Wildfire (2), Likely Wildfire (3)</td>\n",
              "      <td>...</td>\n",
              "      <td>Prescribed fire data in this dataset represent...</td>\n",
              "      <td>None</td>\n",
              "      <td>None</td>\n",
              "      <td>0.428936</td>\n",
              "      <td>NaN</td>\n",
              "      <td>No</td>\n",
              "      <td>35105.903602</td>\n",
              "      <td>4.206711e+07</td>\n",
              "      <td>782.078523</td>\n",
              "      <td>26.583035</td>\n",
              "    </tr>\n",
              "    <tr>\n",
              "      <th>4</th>\n",
              "      <td>14303</td>\n",
              "      <td>14303</td>\n",
              "      <td>Wildfire</td>\n",
              "      <td>1963</td>\n",
              "      <td>1</td>\n",
              "      <td>1 (1), 3 (3)</td>\n",
              "      <td>9983.605738</td>\n",
              "      <td>4040.221900</td>\n",
              "      <td>Comb_National_NIFC_Interagency_Fire_Perimeter_...</td>\n",
              "      <td>Wildfire (1), Likely Wildfire (3)</td>\n",
              "      <td>...</td>\n",
              "      <td>Prescribed fire data in this dataset represent...</td>\n",
              "      <td>None</td>\n",
              "      <td>None</td>\n",
              "      <td>0.703178</td>\n",
              "      <td>NaN</td>\n",
              "      <td>No</td>\n",
              "      <td>26870.456126</td>\n",
              "      <td>4.040222e+07</td>\n",
              "      <td>820.831455</td>\n",
              "      <td>24.325592</td>\n",
              "    </tr>\n",
              "  </tbody>\n",
              "</table>\n",
              "<p>5 rows × 32 columns</p>\n",
              "</div>\n",
              "    <div class=\"colab-df-buttons\">\n",
              "\n",
              "  <div class=\"colab-df-container\">\n",
              "    <button class=\"colab-df-convert\" onclick=\"convertToInteractive('df-127e74e4-061f-4ec1-9f63-9cf77b0b6dc8')\"\n",
              "            title=\"Convert this dataframe to an interactive table.\"\n",
              "            style=\"display:none;\">\n",
              "\n",
              "  <svg xmlns=\"http://www.w3.org/2000/svg\" height=\"24px\" viewBox=\"0 -960 960 960\">\n",
              "    <path d=\"M120-120v-720h720v720H120Zm60-500h600v-160H180v160Zm220 220h160v-160H400v160Zm0 220h160v-160H400v160ZM180-400h160v-160H180v160Zm440 0h160v-160H620v160ZM180-180h160v-160H180v160Zm440 0h160v-160H620v160Z\"/>\n",
              "  </svg>\n",
              "    </button>\n",
              "\n",
              "  <style>\n",
              "    .colab-df-container {\n",
              "      display:flex;\n",
              "      gap: 12px;\n",
              "    }\n",
              "\n",
              "    .colab-df-convert {\n",
              "      background-color: #E8F0FE;\n",
              "      border: none;\n",
              "      border-radius: 50%;\n",
              "      cursor: pointer;\n",
              "      display: none;\n",
              "      fill: #1967D2;\n",
              "      height: 32px;\n",
              "      padding: 0 0 0 0;\n",
              "      width: 32px;\n",
              "    }\n",
              "\n",
              "    .colab-df-convert:hover {\n",
              "      background-color: #E2EBFA;\n",
              "      box-shadow: 0px 1px 2px rgba(60, 64, 67, 0.3), 0px 1px 3px 1px rgba(60, 64, 67, 0.15);\n",
              "      fill: #174EA6;\n",
              "    }\n",
              "\n",
              "    .colab-df-buttons div {\n",
              "      margin-bottom: 4px;\n",
              "    }\n",
              "\n",
              "    [theme=dark] .colab-df-convert {\n",
              "      background-color: #3B4455;\n",
              "      fill: #D2E3FC;\n",
              "    }\n",
              "\n",
              "    [theme=dark] .colab-df-convert:hover {\n",
              "      background-color: #434B5C;\n",
              "      box-shadow: 0px 1px 3px 1px rgba(0, 0, 0, 0.15);\n",
              "      filter: drop-shadow(0px 1px 2px rgba(0, 0, 0, 0.3));\n",
              "      fill: #FFFFFF;\n",
              "    }\n",
              "  </style>\n",
              "\n",
              "    <script>\n",
              "      const buttonEl =\n",
              "        document.querySelector('#df-127e74e4-061f-4ec1-9f63-9cf77b0b6dc8 button.colab-df-convert');\n",
              "      buttonEl.style.display =\n",
              "        google.colab.kernel.accessAllowed ? 'block' : 'none';\n",
              "\n",
              "      async function convertToInteractive(key) {\n",
              "        const element = document.querySelector('#df-127e74e4-061f-4ec1-9f63-9cf77b0b6dc8');\n",
              "        const dataTable =\n",
              "          await google.colab.kernel.invokeFunction('convertToInteractive',\n",
              "                                                    [key], {});\n",
              "        if (!dataTable) return;\n",
              "\n",
              "        const docLinkHtml = 'Like what you see? Visit the ' +\n",
              "          '<a target=\"_blank\" href=https://colab.research.google.com/notebooks/data_table.ipynb>data table notebook</a>'\n",
              "          + ' to learn more about interactive tables.';\n",
              "        element.innerHTML = '';\n",
              "        dataTable['output_type'] = 'display_data';\n",
              "        await google.colab.output.renderOutput(dataTable, element);\n",
              "        const docLink = document.createElement('div');\n",
              "        docLink.innerHTML = docLinkHtml;\n",
              "        element.appendChild(docLink);\n",
              "      }\n",
              "    </script>\n",
              "  </div>\n",
              "\n",
              "\n",
              "<div id=\"df-d5fdf0be-6575-4dba-8345-e3bc318a6c35\">\n",
              "  <button class=\"colab-df-quickchart\" onclick=\"quickchart('df-d5fdf0be-6575-4dba-8345-e3bc318a6c35')\"\n",
              "            title=\"Suggest charts.\"\n",
              "            style=\"display:none;\">\n",
              "\n",
              "<svg xmlns=\"http://www.w3.org/2000/svg\" height=\"24px\"viewBox=\"0 0 24 24\"\n",
              "     width=\"24px\">\n",
              "    <g>\n",
              "        <path d=\"M19 3H5c-1.1 0-2 .9-2 2v14c0 1.1.9 2 2 2h14c1.1 0 2-.9 2-2V5c0-1.1-.9-2-2-2zM9 17H7v-7h2v7zm4 0h-2V7h2v10zm4 0h-2v-4h2v4z\"/>\n",
              "    </g>\n",
              "</svg>\n",
              "  </button>\n",
              "\n",
              "<style>\n",
              "  .colab-df-quickchart {\n",
              "      --bg-color: #E8F0FE;\n",
              "      --fill-color: #1967D2;\n",
              "      --hover-bg-color: #E2EBFA;\n",
              "      --hover-fill-color: #174EA6;\n",
              "      --disabled-fill-color: #AAA;\n",
              "      --disabled-bg-color: #DDD;\n",
              "  }\n",
              "\n",
              "  [theme=dark] .colab-df-quickchart {\n",
              "      --bg-color: #3B4455;\n",
              "      --fill-color: #D2E3FC;\n",
              "      --hover-bg-color: #434B5C;\n",
              "      --hover-fill-color: #FFFFFF;\n",
              "      --disabled-bg-color: #3B4455;\n",
              "      --disabled-fill-color: #666;\n",
              "  }\n",
              "\n",
              "  .colab-df-quickchart {\n",
              "    background-color: var(--bg-color);\n",
              "    border: none;\n",
              "    border-radius: 50%;\n",
              "    cursor: pointer;\n",
              "    display: none;\n",
              "    fill: var(--fill-color);\n",
              "    height: 32px;\n",
              "    padding: 0;\n",
              "    width: 32px;\n",
              "  }\n",
              "\n",
              "  .colab-df-quickchart:hover {\n",
              "    background-color: var(--hover-bg-color);\n",
              "    box-shadow: 0 1px 2px rgba(60, 64, 67, 0.3), 0 1px 3px 1px rgba(60, 64, 67, 0.15);\n",
              "    fill: var(--button-hover-fill-color);\n",
              "  }\n",
              "\n",
              "  .colab-df-quickchart-complete:disabled,\n",
              "  .colab-df-quickchart-complete:disabled:hover {\n",
              "    background-color: var(--disabled-bg-color);\n",
              "    fill: var(--disabled-fill-color);\n",
              "    box-shadow: none;\n",
              "  }\n",
              "\n",
              "  .colab-df-spinner {\n",
              "    border: 2px solid var(--fill-color);\n",
              "    border-color: transparent;\n",
              "    border-bottom-color: var(--fill-color);\n",
              "    animation:\n",
              "      spin 1s steps(1) infinite;\n",
              "  }\n",
              "\n",
              "  @keyframes spin {\n",
              "    0% {\n",
              "      border-color: transparent;\n",
              "      border-bottom-color: var(--fill-color);\n",
              "      border-left-color: var(--fill-color);\n",
              "    }\n",
              "    20% {\n",
              "      border-color: transparent;\n",
              "      border-left-color: var(--fill-color);\n",
              "      border-top-color: var(--fill-color);\n",
              "    }\n",
              "    30% {\n",
              "      border-color: transparent;\n",
              "      border-left-color: var(--fill-color);\n",
              "      border-top-color: var(--fill-color);\n",
              "      border-right-color: var(--fill-color);\n",
              "    }\n",
              "    40% {\n",
              "      border-color: transparent;\n",
              "      border-right-color: var(--fill-color);\n",
              "      border-top-color: var(--fill-color);\n",
              "    }\n",
              "    60% {\n",
              "      border-color: transparent;\n",
              "      border-right-color: var(--fill-color);\n",
              "    }\n",
              "    80% {\n",
              "      border-color: transparent;\n",
              "      border-right-color: var(--fill-color);\n",
              "      border-bottom-color: var(--fill-color);\n",
              "    }\n",
              "    90% {\n",
              "      border-color: transparent;\n",
              "      border-bottom-color: var(--fill-color);\n",
              "    }\n",
              "  }\n",
              "</style>\n",
              "\n",
              "  <script>\n",
              "    async function quickchart(key) {\n",
              "      const quickchartButtonEl =\n",
              "        document.querySelector('#' + key + ' button');\n",
              "      quickchartButtonEl.disabled = true;  // To prevent multiple clicks.\n",
              "      quickchartButtonEl.classList.add('colab-df-spinner');\n",
              "      try {\n",
              "        const charts = await google.colab.kernel.invokeFunction(\n",
              "            'suggestCharts', [key], {});\n",
              "      } catch (error) {\n",
              "        console.error('Error during call to suggestCharts:', error);\n",
              "      }\n",
              "      quickchartButtonEl.classList.remove('colab-df-spinner');\n",
              "      quickchartButtonEl.classList.add('colab-df-quickchart-complete');\n",
              "    }\n",
              "    (() => {\n",
              "      let quickchartButtonEl =\n",
              "        document.querySelector('#df-d5fdf0be-6575-4dba-8345-e3bc318a6c35 button');\n",
              "      quickchartButtonEl.style.display =\n",
              "        google.colab.kernel.accessAllowed ? 'block' : 'none';\n",
              "    })();\n",
              "  </script>\n",
              "</div>\n",
              "    </div>\n",
              "  </div>\n"
            ]
          },
          "metadata": {},
          "execution_count": 31
        }
      ]
    }
  ],
  "metadata": {
    "colab": {
      "provenance": []
    },
    "kernelspec": {
      "display_name": "Python 3",
      "name": "python3"
    },
    "language_info": {
      "name": "python"
    }
  },
  "nbformat": 4,
  "nbformat_minor": 0
}