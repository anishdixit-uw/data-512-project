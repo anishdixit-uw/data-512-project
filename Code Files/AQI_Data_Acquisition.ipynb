{
  "nbformat": 4,
  "nbformat_minor": 0,
  "metadata": {
    "colab": {
      "provenance": []
    },
    "kernelspec": {
      "name": "python3",
      "display_name": "Python 3"
    },
    "language_info": {
      "name": "python"
    }
  },
  "cells": [
    {
      "cell_type": "code",
      "execution_count": null,
      "metadata": {
        "colab": {
          "base_uri": "https://localhost:8080/"
        },
        "id": "PuSl6fF5o1qI",
        "outputId": "514d911e-79e3-405e-983f-103ad9f19742"
      },
      "outputs": [
        {
          "output_type": "stream",
          "name": "stdout",
          "text": [
            "Mounted at /content/drive\n"
          ]
        }
      ],
      "source": [
        "from google.colab import drive\n",
        "drive.mount('/content/drive')"
      ]
    },
    {
      "cell_type": "markdown",
      "source": [
        "Importing necessary libraries"
      ],
      "metadata": {
        "id": "1Y-qnFevq5C6"
      }
    },
    {
      "cell_type": "code",
      "source": [
        "#\n",
        "#    These are standard python modules\n",
        "#\n",
        "#import json, time, urllib.parse\n",
        "import json, time\n",
        "import numpy as np\n",
        "import pandas as pd\n",
        "#\n",
        "#    The 'requests' module is a distribution module for making web requests.\n",
        "#\n",
        "import requests\n",
        "from tqdm import tqdm"
      ],
      "metadata": {
        "id": "bpO0-DuTpfco"
      },
      "execution_count": null,
      "outputs": []
    },
    {
      "cell_type": "code",
      "source": [
        "#########\n",
        "#\n",
        "#    CONSTANTS\n",
        "#\n",
        "\n",
        "#\n",
        "#    This is the root of all AQS API URLs\n",
        "#\n",
        "API_REQUEST_URL = 'https://aqs.epa.gov/data/api'\n",
        "\n",
        "#\n",
        "#    These are 'actions' we can ask the API to take or requests that we can make of the API\n",
        "#\n",
        "#    Sign-up request - generally only performed once - unless you lose your key\n",
        "API_ACTION_SIGNUP = '/signup?email={email}'\n",
        "#\n",
        "#    List actions provide information on API parameter values that are required by some other actions/requests\n",
        "API_ACTION_LIST_CLASSES = '/list/classes?email={email}&key={key}'\n",
        "API_ACTION_LIST_PARAMS = '/list/parametersByClass?email={email}&key={key}&pc={pclass}'\n",
        "API_ACTION_LIST_SITES = '/list/sitesByCounty?email={email}&key={key}&state={state}&county={county}'\n",
        "#\n",
        "#    Monitor actions are requests for monitoring stations that meet specific criteria\n",
        "API_ACTION_MONITORS_COUNTY = '/monitors/byCounty?email={email}&key={key}&param={param}&bdate={begin_date}&edate={end_date}&state={state}&county={county}'\n",
        "API_ACTION_MONITORS_BOX = '/monitors/byBox?email={email}&key={key}&param={param}&bdate={begin_date}&edate={end_date}&minlat={minlat}&maxlat={maxlat}&minlon={minlon}&maxlon={maxlon}'\n",
        "#\n",
        "#    Summary actions are requests for summary data. These are for daily summaries\n",
        "API_ACTION_DAILY_SUMMARY_COUNTY = '/dailyData/byCounty?email={email}&key={key}&param={param}&bdate={begin_date}&edate={end_date}&state={state}&county={county}'\n",
        "API_ACTION_DAILY_SUMMARY_BOX = '/dailyData/byBox?email={email}&key={key}&param={param}&bdate={begin_date}&edate={end_date}&minlat={minlat}&maxlat={maxlat}&minlon={minlon}&maxlon={maxlon}'\n",
        "#\n",
        "#    It is always nice to be respectful of a free data resource.\n",
        "#    We're going to observe a 100 requests per minute limit - which is fairly nice\n",
        "API_LATENCY_ASSUMED = 0.002       # Assuming roughly 2ms latency on the API and network\n",
        "API_THROTTLE_WAIT = (1.0/100.0)-API_LATENCY_ASSUMED\n",
        "#\n",
        "#\n",
        "#    This is a template that covers most of the parameters for the actions we might take, from the set of actions\n",
        "#    above. In the examples below, most of the time parameters can either be supplied as individual values to a\n",
        "#    function - or they can be set in a copy of the template and passed in with the template.\n",
        "#\n",
        "AQS_REQUEST_TEMPLATE = {\n",
        "    \"email\":      \"\",\n",
        "    \"key\":        \"\",\n",
        "    \"state\":      \"\",     # the two digit state FIPS # as a string\n",
        "    \"county\":     \"\",     # the three digit county FIPS # as a string\n",
        "    \"begin_date\": \"\",     # the start of a time window in YYYYMMDD format\n",
        "    \"end_date\":   \"\",     # the end of a time window in YYYYMMDD format, begin_date and end_date must be in the same year\n",
        "    \"minlat\":    0.0,\n",
        "    \"maxlat\":    0.0,\n",
        "    \"minlon\":    0.0,\n",
        "    \"maxlon\":    0.0,\n",
        "    \"param\":     \"\",     # a list of comma separated 5 digit codes, max 5 codes requested\n",
        "    \"pclass\":    \"\"      # parameter class is only used by the List calls\n",
        "}"
      ],
      "metadata": {
        "id": "i_zPiw_ao_WU"
      },
      "execution_count": null,
      "outputs": []
    },
    {
      "cell_type": "markdown",
      "source": [
        "API Access details"
      ],
      "metadata": {
        "id": "abqEczmKq_eE"
      }
    },
    {
      "cell_type": "code",
      "source": [
        "USERNAME = \"andixit@uw.edu\"\n",
        "APIKEY = \"ecruosprey95\""
      ],
      "metadata": {
        "id": "wH3Hv7uqp0FA"
      },
      "execution_count": null,
      "outputs": []
    },
    {
      "cell_type": "markdown",
      "source": [
        "Only filtering for specific pollutants"
      ],
      "metadata": {
        "id": "b77yVm46rDZZ"
      }
    },
    {
      "cell_type": "code",
      "source": [
        "AQI_PARAM_CLASS = \"AQI POLLUTANTS\""
      ],
      "metadata": {
        "id": "tAomceVLp2x8"
      },
      "execution_count": null,
      "outputs": []
    },
    {
      "cell_type": "code",
      "source": [
        "#   Gaseous AQI pollutants CO, SO2, NO2, and O2\n",
        "AQI_PARAMS_GASEOUS = \"42101,42401,42602,44201\"\n",
        "#\n",
        "#   Particulate AQI pollutants PM10, PM2.5, and Acceptable PM2.5\n",
        "AQI_PARAMS_PARTICULATES = \"81102,88101,88502\"\n",
        "#\n",
        "#"
      ],
      "metadata": {
        "id": "ajvk1-Vgp9y9"
      },
      "execution_count": null,
      "outputs": []
    },
    {
      "cell_type": "markdown",
      "source": [
        "Find the data for North Platte, Nebraska"
      ],
      "metadata": {
        "id": "jCEsy3kErKNS"
      }
    },
    {
      "cell_type": "code",
      "source": [
        "CITY_LOCATIONS = {\n",
        "    'np' :       {'city'   : 'North Platte',\n",
        "                  'county' : 'Lincoln',\n",
        "                  'state'  : 'Nebraska',\n",
        "                  'fips'   : '35000',\n",
        "                  'latlon' : [41.1403, -100.7601] }\n",
        "}"
      ],
      "metadata": {
        "id": "QYiJNpUpqFLn"
      },
      "execution_count": null,
      "outputs": []
    },
    {
      "cell_type": "code",
      "source": [
        "#\n",
        "#    This implements the daily summary request. Daily summary provides a daily summary value for each sensor being requested\n",
        "#    from the start date to the end date.\n",
        "#\n",
        "#    Like the two other functions, this can be called with a mixture of a defined parameter dictionary, or with function\n",
        "#    parameters. If function parameters are provided, those take precedence over any parameters from the request template.\n",
        "#\n",
        "def request_daily_summary(email_address = None, key = None, param=None,\n",
        "                          begin_date = None, end_date = None, fips = None,\n",
        "                          endpoint_url = API_REQUEST_URL,\n",
        "                          endpoint_action = API_ACTION_DAILY_SUMMARY_COUNTY,\n",
        "                          request_template = AQS_REQUEST_TEMPLATE,\n",
        "                          headers = None):\n",
        "\n",
        "    #  This prioritizes the info from the call parameters - not what's already in the template\n",
        "    if email_address:\n",
        "        request_template['email'] = email_address\n",
        "    if key:\n",
        "        request_template['key'] = key\n",
        "    if param:\n",
        "        request_template['param'] = param\n",
        "    if begin_date:\n",
        "        request_template['begin_date'] = begin_date\n",
        "    if end_date:\n",
        "        request_template['end_date'] = end_date\n",
        "    if fips and len(fips)==5:\n",
        "        request_template['state'] = fips[:2]\n",
        "        request_template['county'] = fips[2:]\n",
        "\n",
        "    # Make sure there are values that allow us to make a call - these are always required\n",
        "    if not request_template['email']:\n",
        "        raise Exception(\"Must supply an email address to call 'request_daily_summary()'\")\n",
        "    if not request_template['key']:\n",
        "        raise Exception(\"Must supply a key to call 'request_daily_summary()'\")\n",
        "    if not request_template['param']:\n",
        "        raise Exception(\"Must supply param values to call 'request_daily_summary()'\")\n",
        "    if not request_template['begin_date']:\n",
        "        raise Exception(\"Must supply a begin_date to call 'request_daily_summary()'\")\n",
        "    if not request_template['end_date']:\n",
        "        raise Exception(\"Must supply an end_date to call 'request_daily_summary()'\")\n",
        "    # Note we're not validating FIPS fields because not all of the daily summary actions require the FIPS numbers\n",
        "\n",
        "    # compose the request\n",
        "    request_url = endpoint_url+endpoint_action.format(**request_template)\n",
        "\n",
        "    # make the request\n",
        "    try:\n",
        "        # Wait first, to make sure we don't exceed a rate limit in the situation where an exception occurs\n",
        "        # during the request processing - throttling is always a good practice with a free data source\n",
        "        if API_THROTTLE_WAIT > 0.0:\n",
        "            time.sleep(API_THROTTLE_WAIT)\n",
        "        response = requests.get(request_url, headers=headers)\n",
        "        json_response = response.json()\n",
        "    except Exception as e:\n",
        "        print(e)\n",
        "        json_response = None\n",
        "    return json_response\n",
        "\n"
      ],
      "metadata": {
        "id": "IltSRFBTqWk_"
      },
      "execution_count": null,
      "outputs": []
    },
    {
      "cell_type": "code",
      "source": [
        "request_data = AQS_REQUEST_TEMPLATE.copy()\n",
        "request_data['email'] = USERNAME\n",
        "request_data['key'] = APIKEY\n",
        "request_data['param'] = AQI_PARAMS_GASEOUS\n",
        "request_data['state'] = CITY_LOCATIONS['np']['fips'][:2]\n",
        "request_data['county'] = CITY_LOCATIONS['np']['fips'][2:]\n",
        "\n",
        "# request daily summary data for 2020\n",
        "gaseous_aqi = request_daily_summary(request_template=request_data, begin_date=\"20200101\", end_date=\"20201231\")\n",
        "print(\"Response for the gaseous pollutants ...\")\n",
        "#\n",
        "if gaseous_aqi[\"Header\"][0]['status'] == \"Success\":\n",
        "    print(json.dumps(gaseous_aqi['Data'],indent=4))\n",
        "elif gaseous_aqi[\"Header\"][0]['status'].startswith(\"No data \"):\n",
        "    print(\"Looks like the response generated no data. You might take a closer look at your request and the response data.\")\n",
        "else:\n",
        "    print(json.dumps(gaseous_aqi,indent=4))\n",
        "\n",
        "request_data['param'] = AQI_PARAMS_PARTICULATES\n",
        "# request daily summary data for 2020\n",
        "particulate_aqi = request_daily_summary(request_template=request_data, begin_date=\"20200101\", end_date=\"20201231\")\n",
        "print(\"Response for the particulate pollutants ...\")\n",
        "#\n",
        "if particulate_aqi[\"Header\"][0]['status'] == \"Success\":\n",
        "    print(json.dumps(particulate_aqi['Data'],indent=4))\n",
        "elif particulate_aqi[\"Header\"][0]['status'].startswith(\"No data \"):\n",
        "    print(\"Looks like the response generated no data. You might take a closer look at your request and the response data.\")\n",
        "else:\n",
        "    print(json.dumps(particulate_aqi,indent=4))"
      ],
      "metadata": {
        "colab": {
          "base_uri": "https://localhost:8080/"
        },
        "id": "rK1WuW3Uqctj",
        "outputId": "d09fc989-ed43-4794-9ea6-db6936c0d7dd"
      },
      "execution_count": null,
      "outputs": [
        {
          "output_type": "stream",
          "name": "stdout",
          "text": [
            "Response for the gaseous pollutants ...\n",
            "Looks like the response generated no data. You might take a closer look at your request and the response data.\n",
            "Response for the particulate pollutants ...\n",
            "Looks like the response generated no data. You might take a closer look at your request and the response data.\n"
          ]
        }
      ]
    },
    {
      "cell_type": "markdown",
      "source": [
        "There is no data being returned for the exact FIPS code location of North Platte, Nebraska.\n",
        "\n",
        "Hence, we extend our search radius to find surrounding stations"
      ],
      "metadata": {
        "id": "4vcyVqF2rSr7"
      }
    },
    {
      "cell_type": "code",
      "source": [
        "\"#\n",
        "#   These are rough estimates for creating bounding boxes based on a city location\n",
        "#   You can find these rough estimates on the USGS website:\n",
        "#   https://www.usgs.gov/faqs/how-much-distance-does-a-degree-minute-and-second-cover-your-maps\n",
        "#\n",
        "LAT_25MILES = 25.0 * (1.0/69.0)    # This is about 25 miles of latitude in decimal degrees\n",
        "LON_25MILES = 25.0 * (1.0/54.6)    # This is about 25 miles of longitude in decimal degrees\n",
        "#\n",
        "#   Compute a rough estimates for a bounding box around a given place\n",
        "#   The bounding box is scaled in 50 mile increments. That is the bounding box will have sides that\n",
        "#   are rough multiples of 50 miles, with the center of the box around the indicated place.\n",
        "#   The scale parameter determines the scale (size) of the bounding box\n",
        "#\n",
        "def bounding_latlon(place=None,scale=1.0):\n",
        "    minlat = place['latlon'][0] - float(scale) * LAT_25MILES\n",
        "    maxlat = place['latlon'][0] + float(scale) * LAT_25MILES\n",
        "    minlon = place['latlon'][1] - float(scale) * LON_25MILES\n",
        "    maxlon = place['latlon'][1] + float(scale) * LON_25MILES\n",
        "    return [minlat,maxlat,minlon,maxlon]"
      ],
      "metadata": {
        "id": "CtJcleFvqkfF"
      },
      "execution_count": null,
      "outputs": []
    },
    {
      "cell_type": "code",
      "source": [
        "#\n",
        "#    This implements the monitors request. This requests monitoring stations. This can be done by state, county, or bounding box.\n",
        "#\n",
        "#    Like the two other functions, this can be called with a mixture of a defined parameter dictionary, or with function\n",
        "#    parameters. If function parameters are provided, those take precedence over any parameters from the request template.\n",
        "#\n",
        "def request_monitors(email_address = None, key = None, param=None,\n",
        "                          begin_date = None, end_date = None, fips = None,\n",
        "                          endpoint_url = API_REQUEST_URL,\n",
        "                          endpoint_action = API_ACTION_MONITORS_COUNTY,\n",
        "                          request_template = AQS_REQUEST_TEMPLATE,\n",
        "                          headers = None):\n",
        "\n",
        "    #  This prioritizes the info from the call parameters - not what's already in the template\n",
        "    if email_address:\n",
        "        request_template['email'] = email_address\n",
        "    if key:\n",
        "        request_template['key'] = key\n",
        "    if param:\n",
        "        request_template['param'] = param\n",
        "    if begin_date:\n",
        "        request_template['begin_date'] = begin_date\n",
        "    if end_date:\n",
        "        request_template['end_date'] = end_date\n",
        "    if fips and len(fips)==5:\n",
        "        request_template['state'] = fips[:2]\n",
        "        request_template['county'] = fips[2:]\n",
        "\n",
        "    # Make sure there are values that allow us to make a call - these are always required\n",
        "    if not request_template['email']:\n",
        "        raise Exception(\"Must supply an email address to call 'request_monitors()'\")\n",
        "    if not request_template['key']:\n",
        "        raise Exception(\"Must supply a key to call 'request_monitors()'\")\n",
        "    if not request_template['param']:\n",
        "        raise Exception(\"Must supply param values to call 'request_monitors()'\")\n",
        "    if not request_template['begin_date']:\n",
        "        raise Exception(\"Must supply a begin_date to call 'request_monitors()'\")\n",
        "    if not request_template['end_date']:\n",
        "        raise Exception(\"Must supply an end_date to call 'request_monitors()'\")\n",
        "    # Note we're not validating FIPS fields because not all of the monitors actions require the FIPS numbers\n",
        "\n",
        "    # compose the request\n",
        "    request_url = endpoint_url+endpoint_action.format(**request_template)\n",
        "\n",
        "    # make the request\n",
        "    try:\n",
        "        # Wait first, to make sure we don't exceed a rate limit in the situation where an exception occurs\n",
        "        # during the request processing - throttling is always a good practice with a free data source\n",
        "        if API_THROTTLE_WAIT > 0.0:\n",
        "            time.sleep(API_THROTTLE_WAIT)\n",
        "        response = requests.get(request_url, headers=headers)\n",
        "        json_response = response.json()\n",
        "    except Exception as e:\n",
        "        print(e)\n",
        "        json_response = None\n",
        "    return json_response\n"
      ],
      "metadata": {
        "id": "cvr0fpgQrPvG"
      },
      "execution_count": null,
      "outputs": []
    },
    {
      "cell_type": "code",
      "source": [
        "#\n",
        "request_data = AQS_REQUEST_TEMPLATE.copy()\n",
        "request_data['email'] = USERNAME\n",
        "request_data['key'] = APIKEY\n",
        "request_data['param'] = AQI_PARAMS_PARTICULATES     # remember we have both gaseous and particulates\n",
        "#\n",
        "#   We got the monitoring stations for Bend OR above (Deschutes county) - let's work with that one again\n",
        "request_data['state'] = CITY_LOCATIONS['np']['fips'][:2]\n",
        "request_data['county'] = CITY_LOCATIONS['np']['fips'][2:]\n",
        "#\n",
        "# the first example uses the default - request monitors by county, we'll just use a recent date for now\n",
        "response = request_monitors(request_template=request_data, begin_date=\"20210701\", end_date=\"20210731\")\n",
        "#\n",
        "# the response should be similar to the 'list' request above - but in this case we should only get monitors that\n",
        "# monitor the AQI_PARAMS_PARTICULATES set of params.\n",
        "#\n",
        "if response[\"Header\"][0]['status'] == \"Success\":\n",
        "    print(json.dumps(response['Data'],indent=4))\n",
        "else:\n",
        "    print(json.dumps(response,indent=4))\n"
      ],
      "metadata": {
        "colab": {
          "base_uri": "https://localhost:8080/"
        },
        "id": "z1BgCbCJrWIH",
        "outputId": "c5f5173d-1b87-4cab-f1a6-1f64b7d88bf0"
      },
      "execution_count": null,
      "outputs": [
        {
          "output_type": "stream",
          "name": "stdout",
          "text": [
            "{\n",
            "    \"Header\": [\n",
            "        {\n",
            "            \"status\": \"No data matched your selection\",\n",
            "            \"request_time\": \"2023-11-08T01:45:21-05:00\",\n",
            "            \"url\": \"https://aqs.epa.gov/data/api/monitors/byCounty?email=andixit@uw.edu&key=ecruosprey95&param=81102,88101,88502&bdate=20210701&edate=20210731&state=35&county=000\",\n",
            "            \"rows\": 0\n",
            "        }\n",
            "    ],\n",
            "    \"Data\": []\n",
            "}\n"
          ]
        }
      ]
    },
    {
      "cell_type": "markdown",
      "source": [
        "There are no monitoring stations in North Platte.\n",
        "\n",
        "Expanding the search radius to 50,100,150,200,250 miles, I get multiple stations which encompass a lot of years of air quality index data"
      ],
      "metadata": {
        "id": "g-cmIxF4rpPK"
      }
    },
    {
      "cell_type": "code",
      "source": [
        "#\n",
        "#    Create a copy of the AQS_REQUEST_TEMPLATE\n",
        "#\n",
        "request_data = AQS_REQUEST_TEMPLATE.copy()\n",
        "request_data['email'] = USERNAME\n",
        "request_data['key'] = APIKEY\n",
        "request_data['param'] = AQI_PARAMS_PARTICULATES     # same particulate request as the one abover\n",
        "#\n",
        "#   Not going to use these - comment them out\n",
        "#request_data['state'] = CITY_LOCATIONS['bend']['fips'][:2]\n",
        "#request_data['county'] = CITY_LOCATIONS['bend']['fips'][2:]\n",
        "#\n",
        "#   Now, we need bounding box parameters\n",
        "\n",
        "#   50 mile box\n",
        "#bbox = bounding_latlon(CITY_LOCATIONS['np'],scale=1.0)\n",
        "#   100 mile box\n",
        "#bbox = bounding_latlon(CITY_LOCATIONS['np'],scale=2.0)\n",
        "#   150 mile box\n",
        "#bbox = bounding_latlon(CITY_LOCATIONS['np'],scale=3.0)\n",
        "#   200 mile box\n",
        "#bbox = bounding_latlon(CITY_LOCATIONS['np'],scale=4.0)\n",
        "#   250 mile box\n",
        "bbox = bounding_latlon(CITY_LOCATIONS['np'],scale=5.0)\n",
        "\n",
        "# the bbox response comes back as a list - [minlat,maxlat,minlon,maxlon]\n",
        "\n",
        "#   put our bounding box into the request_data\n",
        "request_data['minlat'] = bbox[0]\n",
        "request_data['maxlat'] = bbox[1]\n",
        "request_data['minlon'] = bbox[2]\n",
        "request_data['maxlon'] = bbox[3]\n",
        "\n",
        "#\n",
        "#   we need to change the action for the API from the default to the bounding box - same recent date for now\n",
        "response = request_monitors(request_template=request_data, begin_date=\"20020602\", end_date=\"20020603\",\n",
        "                            endpoint_action = API_ACTION_MONITORS_BOX)\n",
        "#\n",
        "#\n",
        "#\n",
        "if response[\"Header\"][0]['status'] == \"Success\":\n",
        "    for station in response['Data']:\n",
        "      print(\"state_code: \",station[\"state_code\"])\n",
        "      print(\"county_code: \",station[\"county_code\"])\n",
        "      print(\"open_date: \",station[\"open_date\"])\n",
        "      print(\"close_date: \",station[\"close_date\"])\n",
        "      print(\" \")\n",
        "    #print(json.dumps(response['Data'],indent=4))\n",
        "else:\n",
        "    print(json.dumps(response,indent=4))\n"
      ],
      "metadata": {
        "colab": {
          "base_uri": "https://localhost:8080/"
        },
        "id": "uQjZ0cbhraMS",
        "outputId": "dcdb530d-e121-496b-d614-1b149bf0d9b1"
      },
      "execution_count": null,
      "outputs": [
        {
          "output_type": "stream",
          "name": "stdout",
          "text": [
            "state_code:  20\n",
            "county_code:  181\n",
            "open_date:  1985-08-01\n",
            "close_date:  2017-03-31\n",
            " \n",
            "state_code:  31\n",
            "county_code:  111\n",
            "open_date:  1999-03-01\n",
            "close_date:  2005-12-31\n",
            " \n",
            "state_code:  31\n",
            "county_code:  069\n",
            "open_date:  2002-06-01\n",
            "close_date:  None\n",
            " \n",
            "state_code:  31\n",
            "county_code:  047\n",
            "open_date:  1991-09-01\n",
            "close_date:  2016-03-08\n",
            " \n",
            "state_code:  31\n",
            "county_code:  049\n",
            "open_date:  1999-08-04\n",
            "close_date:  2002-11-13\n",
            " \n",
            "state_code:  31\n",
            "county_code:  171\n",
            "open_date:  2002-06-01\n",
            "close_date:  None\n",
            " \n",
            "state_code:  31\n",
            "county_code:  047\n",
            "open_date:  1994-10-01\n",
            "close_date:  2016-03-08\n",
            " \n"
          ]
        }
      ]
    },
    {
      "cell_type": "markdown",
      "source": [
        "These are the station locations and the time durations of data they have that I will use.\n",
        "\n",
        "'20181' -> 1985-1991\n",
        "\n",
        "'31047' -> 1991-2002\n",
        "\n",
        "'31171' -> 2002-2023"
      ],
      "metadata": {
        "id": "qL2DSLjmtMii"
      }
    },
    {
      "cell_type": "code",
      "source": [
        "request_data = AQS_REQUEST_TEMPLATE.copy()\n",
        "request_data['email'] = USERNAME\n",
        "request_data['key'] = APIKEY\n",
        "request_data['param'] = AQI_PARAMS_GASEOUS\n",
        "request_data['state'] = 31\n",
        "request_data['county'] = 171\n",
        "\n",
        "# request daily summary data for the month of Jan in 2020\n",
        "gaseous_aqi = request_daily_summary(request_template=request_data, begin_date=\"20200101\", end_date=\"20200102\")\n",
        "print(\"Response for the gaseous pollutants ...\")\n",
        "#\n",
        "if gaseous_aqi[\"Header\"][0]['status'] == \"Success\":\n",
        "    print(json.dumps(gaseous_aqi['Data'],indent=4))\n",
        "elif gaseous_aqi[\"Header\"][0]['status'].startswith(\"No data \"):\n",
        "    print(\"Looks like the response generated no data. You might take a closer look at your request and the response data.\")\n",
        "else:\n",
        "    print(json.dumps(gaseous_aqi,indent=4))\n",
        "\n",
        "request_data['param'] = AQI_PARAMS_PARTICULATES\n",
        "# request daily summary data for the month of Jan in 2020\n",
        "particulate_aqi = request_daily_summary(request_template=request_data, begin_date=\"20200101\", end_date=\"20200102\")\n",
        "print(\"Response for the particulate pollutants ...\")\n",
        "#\n",
        "if particulate_aqi[\"Header\"][0]['status'] == \"Success\":\n",
        "    print(json.dumps(particulate_aqi['Data'],indent=4))\n",
        "elif particulate_aqi[\"Header\"][0]['status'].startswith(\"No data \"):\n",
        "    print(\"Looks like the response generated no data. You might take a closer look at your request and the response data.\")\n",
        "else:\n",
        "    print(json.dumps(particulate_aqi,indent=4))"
      ],
      "metadata": {
        "colab": {
          "base_uri": "https://localhost:8080/"
        },
        "id": "BNmVk8kLrqiz",
        "outputId": "081a1b6d-d79b-4d68-dbe9-00f02f4a647c"
      },
      "execution_count": null,
      "outputs": [
        {
          "output_type": "stream",
          "name": "stdout",
          "text": [
            "Response for the gaseous pollutants ...\n",
            "Looks like the response generated no data. You might take a closer look at your request and the response data.\n",
            "Response for the particulate pollutants ...\n",
            "[\n",
            "    {\n",
            "        \"state_code\": \"31\",\n",
            "        \"county_code\": \"171\",\n",
            "        \"site_number\": \"9000\",\n",
            "        \"parameter_code\": \"88502\",\n",
            "        \"poc\": 1,\n",
            "        \"latitude\": 41.888789,\n",
            "        \"longitude\": -100.339141,\n",
            "        \"datum\": \"WGS84\",\n",
            "        \"parameter\": \"Acceptable PM2.5 AQI & Speciation Mass\",\n",
            "        \"sample_duration_code\": \"7\",\n",
            "        \"sample_duration\": \"24 HOUR\",\n",
            "        \"pollutant_standard\": null,\n",
            "        \"date_local\": \"2020-01-01\",\n",
            "        \"units_of_measure\": \"Micrograms/cubic meter (LC)\",\n",
            "        \"event_type\": \"No Events\",\n",
            "        \"observation_count\": 1,\n",
            "        \"observation_percent\": 100.0,\n",
            "        \"validity_indicator\": \"Y\",\n",
            "        \"arithmetic_mean\": 1.2,\n",
            "        \"first_max_value\": 1.2,\n",
            "        \"first_max_hour\": 0,\n",
            "        \"aqi\": 5,\n",
            "        \"method_code\": \"707\",\n",
            "        \"method\": \"IMPROVE Module A with Cyclone Inlet-Teflon Filter, 2.2 sq. cm. - GRAVIMETRIC\",\n",
            "        \"local_site_name\": null,\n",
            "        \"site_address\": \"Nebraska NF\",\n",
            "        \"state\": \"Nebraska\",\n",
            "        \"county\": \"Thomas\",\n",
            "        \"city\": \"Not in a city\",\n",
            "        \"cbsa_code\": null,\n",
            "        \"cbsa\": null,\n",
            "        \"date_of_last_change\": \"2022-02-15\"\n",
            "    }\n",
            "]\n"
          ]
        }
      ]
    },
    {
      "cell_type": "markdown",
      "source": [
        "I get AQI data for particulate pollutants but not for gaseous pollutants, hence I eliminate those."
      ],
      "metadata": {
        "id": "adqIuHQBsAmS"
      }
    },
    {
      "cell_type": "markdown",
      "source": [
        "Developing a logic to iterate across years, call API and get AQI data for the entire year and aggregate it and save the avergae AQI value for the year."
      ],
      "metadata": {
        "id": "wSFKBvyYsXql"
      }
    },
    {
      "cell_type": "code",
      "source": [
        "stations = {1985:'20181',1986:'20181',1987:'20181',1988:'20181',1989:'20181',1990:'20181',\n",
        "            1991:'31047',1992:'31047',1993:'31047',1994:'31047',1995:'31047',1996:'31047',1997:'31047',1998:'31047',1999:'31047',2000:'31047',2001:'31047',\n",
        "            2002:'31171',2003:'31171',2004:'31171',2005:'31171',2006:'31171',2007:'31171',2008:'31171',2009:'31171',2010:'31171',2011:'31171',2012:'31171',\n",
        "            2013:'31171',2014:'31171',2015:'31171',2016:'31171',2017:'31171',2018:'31171',2019:'31171',2020:'31171',2021:'31171',2022:'31171'}\n",
        "\n",
        "request_data = AQS_REQUEST_TEMPLATE.copy()\n",
        "request_data['email'] = USERNAME\n",
        "request_data['key'] = APIKEY\n",
        "request_data['param'] = AQI_PARAMS_PARTICULATES\n",
        "years = list(np.arange(1985,2023,1))\n",
        "aqi_data = dict()\n",
        "\n",
        "for year in tqdm(years):\n",
        "  all_aqis = []\n",
        "  fips = stations[year]\n",
        "  state_fips = fips[0:2]\n",
        "  county_fips = fips[2:5]\n",
        "  request_data['state'] = state_fips\n",
        "  request_data['county'] = county_fips\n",
        "  start_date = str(year)+'0101'\n",
        "  end_date = str(year)+'1231'\n",
        "  particulate_aqi = request_daily_summary(request_template=request_data, begin_date=start_date, end_date=end_date)\n",
        "  if particulate_aqi[\"Header\"][0]['status'] == \"Success\":\n",
        "    data = particulate_aqi['Data']\n",
        "    for day_data in data:\n",
        "      if \"aqi\" in day_data:\n",
        "        try:\n",
        "          all_aqis.append(day_data[\"aqi\"])\n",
        "        except:\n",
        "          print(\"Null AQI value found, ignored\")\n",
        "\n",
        "    avg_aqi = round(np.average(all_aqis))\n",
        "    aqi_data[year] = avg_aqi\n",
        "\n",
        "    #print(json.dumps(particulate_aqi['Data'],indent=4))\n",
        "  elif particulate_aqi[\"Header\"][0]['status'].startswith(\"No data \"):\n",
        "    print(\"No data for year \",year)\n",
        "    aqi_data[year] = 0\n",
        "  else:\n",
        "      print(\"No data for year \",year)\n",
        "      aqi_data[year] = 0\n",
        "\n"
      ],
      "metadata": {
        "colab": {
          "base_uri": "https://localhost:8080/"
        },
        "id": "ZNV2GJ9etfkX",
        "outputId": "94cc2f5a-454b-46b1-cac8-e1df4ead62b5"
      },
      "execution_count": null,
      "outputs": [
        {
          "output_type": "stream",
          "name": "stderr",
          "text": [
            "100%|██████████| 38/38 [00:17<00:00,  2.19it/s]\n"
          ]
        }
      ]
    },
    {
      "cell_type": "code",
      "source": [
        "aqi_df = pd.DataFrame.from_dict(aqi_data,orient='index')\n",
        "aqi_df.reset_index(inplace=True)\n",
        "aqi_df.rename(columns = {'index':'Year', 0:'avg_aqi'}, inplace = True)\n",
        "aqi_df.head()"
      ],
      "metadata": {
        "colab": {
          "base_uri": "https://localhost:8080/",
          "height": 206
        },
        "id": "LLQDADcpvxJH",
        "outputId": "01984e38-50dc-44cc-f7b0-c0f6470facd7"
      },
      "execution_count": null,
      "outputs": [
        {
          "output_type": "execute_result",
          "data": {
            "text/plain": [
              "   Year  avg_aqi\n",
              "0  1985       24\n",
              "1  1986       32\n",
              "2  1987       36\n",
              "3  1988       27\n",
              "4  1989       26"
            ],
            "text/html": [
              "\n",
              "  <div id=\"df-a33c857b-18a8-47fb-aa61-2b6d1af66c67\" class=\"colab-df-container\">\n",
              "    <div>\n",
              "<style scoped>\n",
              "    .dataframe tbody tr th:only-of-type {\n",
              "        vertical-align: middle;\n",
              "    }\n",
              "\n",
              "    .dataframe tbody tr th {\n",
              "        vertical-align: top;\n",
              "    }\n",
              "\n",
              "    .dataframe thead th {\n",
              "        text-align: right;\n",
              "    }\n",
              "</style>\n",
              "<table border=\"1\" class=\"dataframe\">\n",
              "  <thead>\n",
              "    <tr style=\"text-align: right;\">\n",
              "      <th></th>\n",
              "      <th>Year</th>\n",
              "      <th>avg_aqi</th>\n",
              "    </tr>\n",
              "  </thead>\n",
              "  <tbody>\n",
              "    <tr>\n",
              "      <th>0</th>\n",
              "      <td>1985</td>\n",
              "      <td>24</td>\n",
              "    </tr>\n",
              "    <tr>\n",
              "      <th>1</th>\n",
              "      <td>1986</td>\n",
              "      <td>32</td>\n",
              "    </tr>\n",
              "    <tr>\n",
              "      <th>2</th>\n",
              "      <td>1987</td>\n",
              "      <td>36</td>\n",
              "    </tr>\n",
              "    <tr>\n",
              "      <th>3</th>\n",
              "      <td>1988</td>\n",
              "      <td>27</td>\n",
              "    </tr>\n",
              "    <tr>\n",
              "      <th>4</th>\n",
              "      <td>1989</td>\n",
              "      <td>26</td>\n",
              "    </tr>\n",
              "  </tbody>\n",
              "</table>\n",
              "</div>\n",
              "    <div class=\"colab-df-buttons\">\n",
              "\n",
              "  <div class=\"colab-df-container\">\n",
              "    <button class=\"colab-df-convert\" onclick=\"convertToInteractive('df-a33c857b-18a8-47fb-aa61-2b6d1af66c67')\"\n",
              "            title=\"Convert this dataframe to an interactive table.\"\n",
              "            style=\"display:none;\">\n",
              "\n",
              "  <svg xmlns=\"http://www.w3.org/2000/svg\" height=\"24px\" viewBox=\"0 -960 960 960\">\n",
              "    <path d=\"M120-120v-720h720v720H120Zm60-500h600v-160H180v160Zm220 220h160v-160H400v160Zm0 220h160v-160H400v160ZM180-400h160v-160H180v160Zm440 0h160v-160H620v160ZM180-180h160v-160H180v160Zm440 0h160v-160H620v160Z\"/>\n",
              "  </svg>\n",
              "    </button>\n",
              "\n",
              "  <style>\n",
              "    .colab-df-container {\n",
              "      display:flex;\n",
              "      gap: 12px;\n",
              "    }\n",
              "\n",
              "    .colab-df-convert {\n",
              "      background-color: #E8F0FE;\n",
              "      border: none;\n",
              "      border-radius: 50%;\n",
              "      cursor: pointer;\n",
              "      display: none;\n",
              "      fill: #1967D2;\n",
              "      height: 32px;\n",
              "      padding: 0 0 0 0;\n",
              "      width: 32px;\n",
              "    }\n",
              "\n",
              "    .colab-df-convert:hover {\n",
              "      background-color: #E2EBFA;\n",
              "      box-shadow: 0px 1px 2px rgba(60, 64, 67, 0.3), 0px 1px 3px 1px rgba(60, 64, 67, 0.15);\n",
              "      fill: #174EA6;\n",
              "    }\n",
              "\n",
              "    .colab-df-buttons div {\n",
              "      margin-bottom: 4px;\n",
              "    }\n",
              "\n",
              "    [theme=dark] .colab-df-convert {\n",
              "      background-color: #3B4455;\n",
              "      fill: #D2E3FC;\n",
              "    }\n",
              "\n",
              "    [theme=dark] .colab-df-convert:hover {\n",
              "      background-color: #434B5C;\n",
              "      box-shadow: 0px 1px 3px 1px rgba(0, 0, 0, 0.15);\n",
              "      filter: drop-shadow(0px 1px 2px rgba(0, 0, 0, 0.3));\n",
              "      fill: #FFFFFF;\n",
              "    }\n",
              "  </style>\n",
              "\n",
              "    <script>\n",
              "      const buttonEl =\n",
              "        document.querySelector('#df-a33c857b-18a8-47fb-aa61-2b6d1af66c67 button.colab-df-convert');\n",
              "      buttonEl.style.display =\n",
              "        google.colab.kernel.accessAllowed ? 'block' : 'none';\n",
              "\n",
              "      async function convertToInteractive(key) {\n",
              "        const element = document.querySelector('#df-a33c857b-18a8-47fb-aa61-2b6d1af66c67');\n",
              "        const dataTable =\n",
              "          await google.colab.kernel.invokeFunction('convertToInteractive',\n",
              "                                                    [key], {});\n",
              "        if (!dataTable) return;\n",
              "\n",
              "        const docLinkHtml = 'Like what you see? Visit the ' +\n",
              "          '<a target=\"_blank\" href=https://colab.research.google.com/notebooks/data_table.ipynb>data table notebook</a>'\n",
              "          + ' to learn more about interactive tables.';\n",
              "        element.innerHTML = '';\n",
              "        dataTable['output_type'] = 'display_data';\n",
              "        await google.colab.output.renderOutput(dataTable, element);\n",
              "        const docLink = document.createElement('div');\n",
              "        docLink.innerHTML = docLinkHtml;\n",
              "        element.appendChild(docLink);\n",
              "      }\n",
              "    </script>\n",
              "  </div>\n",
              "\n",
              "\n",
              "<div id=\"df-164b62a9-81f8-43fc-a1cf-7f03a19a4516\">\n",
              "  <button class=\"colab-df-quickchart\" onclick=\"quickchart('df-164b62a9-81f8-43fc-a1cf-7f03a19a4516')\"\n",
              "            title=\"Suggest charts\"\n",
              "            style=\"display:none;\">\n",
              "\n",
              "<svg xmlns=\"http://www.w3.org/2000/svg\" height=\"24px\"viewBox=\"0 0 24 24\"\n",
              "     width=\"24px\">\n",
              "    <g>\n",
              "        <path d=\"M19 3H5c-1.1 0-2 .9-2 2v14c0 1.1.9 2 2 2h14c1.1 0 2-.9 2-2V5c0-1.1-.9-2-2-2zM9 17H7v-7h2v7zm4 0h-2V7h2v10zm4 0h-2v-4h2v4z\"/>\n",
              "    </g>\n",
              "</svg>\n",
              "  </button>\n",
              "\n",
              "<style>\n",
              "  .colab-df-quickchart {\n",
              "      --bg-color: #E8F0FE;\n",
              "      --fill-color: #1967D2;\n",
              "      --hover-bg-color: #E2EBFA;\n",
              "      --hover-fill-color: #174EA6;\n",
              "      --disabled-fill-color: #AAA;\n",
              "      --disabled-bg-color: #DDD;\n",
              "  }\n",
              "\n",
              "  [theme=dark] .colab-df-quickchart {\n",
              "      --bg-color: #3B4455;\n",
              "      --fill-color: #D2E3FC;\n",
              "      --hover-bg-color: #434B5C;\n",
              "      --hover-fill-color: #FFFFFF;\n",
              "      --disabled-bg-color: #3B4455;\n",
              "      --disabled-fill-color: #666;\n",
              "  }\n",
              "\n",
              "  .colab-df-quickchart {\n",
              "    background-color: var(--bg-color);\n",
              "    border: none;\n",
              "    border-radius: 50%;\n",
              "    cursor: pointer;\n",
              "    display: none;\n",
              "    fill: var(--fill-color);\n",
              "    height: 32px;\n",
              "    padding: 0;\n",
              "    width: 32px;\n",
              "  }\n",
              "\n",
              "  .colab-df-quickchart:hover {\n",
              "    background-color: var(--hover-bg-color);\n",
              "    box-shadow: 0 1px 2px rgba(60, 64, 67, 0.3), 0 1px 3px 1px rgba(60, 64, 67, 0.15);\n",
              "    fill: var(--button-hover-fill-color);\n",
              "  }\n",
              "\n",
              "  .colab-df-quickchart-complete:disabled,\n",
              "  .colab-df-quickchart-complete:disabled:hover {\n",
              "    background-color: var(--disabled-bg-color);\n",
              "    fill: var(--disabled-fill-color);\n",
              "    box-shadow: none;\n",
              "  }\n",
              "\n",
              "  .colab-df-spinner {\n",
              "    border: 2px solid var(--fill-color);\n",
              "    border-color: transparent;\n",
              "    border-bottom-color: var(--fill-color);\n",
              "    animation:\n",
              "      spin 1s steps(1) infinite;\n",
              "  }\n",
              "\n",
              "  @keyframes spin {\n",
              "    0% {\n",
              "      border-color: transparent;\n",
              "      border-bottom-color: var(--fill-color);\n",
              "      border-left-color: var(--fill-color);\n",
              "    }\n",
              "    20% {\n",
              "      border-color: transparent;\n",
              "      border-left-color: var(--fill-color);\n",
              "      border-top-color: var(--fill-color);\n",
              "    }\n",
              "    30% {\n",
              "      border-color: transparent;\n",
              "      border-left-color: var(--fill-color);\n",
              "      border-top-color: var(--fill-color);\n",
              "      border-right-color: var(--fill-color);\n",
              "    }\n",
              "    40% {\n",
              "      border-color: transparent;\n",
              "      border-right-color: var(--fill-color);\n",
              "      border-top-color: var(--fill-color);\n",
              "    }\n",
              "    60% {\n",
              "      border-color: transparent;\n",
              "      border-right-color: var(--fill-color);\n",
              "    }\n",
              "    80% {\n",
              "      border-color: transparent;\n",
              "      border-right-color: var(--fill-color);\n",
              "      border-bottom-color: var(--fill-color);\n",
              "    }\n",
              "    90% {\n",
              "      border-color: transparent;\n",
              "      border-bottom-color: var(--fill-color);\n",
              "    }\n",
              "  }\n",
              "</style>\n",
              "\n",
              "  <script>\n",
              "    async function quickchart(key) {\n",
              "      const quickchartButtonEl =\n",
              "        document.querySelector('#' + key + ' button');\n",
              "      quickchartButtonEl.disabled = true;  // To prevent multiple clicks.\n",
              "      quickchartButtonEl.classList.add('colab-df-spinner');\n",
              "      try {\n",
              "        const charts = await google.colab.kernel.invokeFunction(\n",
              "            'suggestCharts', [key], {});\n",
              "      } catch (error) {\n",
              "        console.error('Error during call to suggestCharts:', error);\n",
              "      }\n",
              "      quickchartButtonEl.classList.remove('colab-df-spinner');\n",
              "      quickchartButtonEl.classList.add('colab-df-quickchart-complete');\n",
              "    }\n",
              "    (() => {\n",
              "      let quickchartButtonEl =\n",
              "        document.querySelector('#df-164b62a9-81f8-43fc-a1cf-7f03a19a4516 button');\n",
              "      quickchartButtonEl.style.display =\n",
              "        google.colab.kernel.accessAllowed ? 'block' : 'none';\n",
              "    })();\n",
              "  </script>\n",
              "</div>\n",
              "    </div>\n",
              "  </div>\n"
            ]
          },
          "metadata": {},
          "execution_count": 37
        }
      ]
    },
    {
      "cell_type": "code",
      "source": [
        "aqi_df.to_csv('/content/drive/MyDrive/AUT 2023/DATA 512/P1/aqi.csv')"
      ],
      "metadata": {
        "id": "7q8vS0otzU88"
      },
      "execution_count": null,
      "outputs": []
    }
  ]
}